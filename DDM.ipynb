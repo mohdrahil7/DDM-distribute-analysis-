{
  "nbformat": 4,
  "nbformat_minor": 0,
  "metadata": {
    "colab": {
      "name": "DDM.ipynb",
      "provenance": [],
      "mount_file_id": "19_wXF6s6gTm2464cp3lwLSKKn4q25tBd",
      "authorship_tag": "ABX9TyOlfi/rRQUFeXzO7zB4wv3p",
      "include_colab_link": true
    },
    "kernelspec": {
      "name": "python3",
      "display_name": "Python 3"
    }
  },
  "cells": [
    {
      "cell_type": "markdown",
      "metadata": {
        "id": "view-in-github",
        "colab_type": "text"
      },
      "source": [
        "<a href=\"https://colab.research.google.com/github/mohdrahil7/DDM-distribute-analysis-/blob/main/DDM.ipynb\" target=\"_parent\"><img src=\"https://colab.research.google.com/assets/colab-badge.svg\" alt=\"Open In Colab\"/></a>"
      ]
    },
    {
      "cell_type": "code",
      "metadata": {
        "id": "N8dX7YgP6EbR",
        "colab": {
          "base_uri": "https://localhost:8080/",
          "height": 34
        },
        "outputId": "5b128d25-6e89-4f72-9ab7-dad4052279c2"
      },
      "source": [
        "from google.colab import drive\n",
        "drive.mount('/content/drive')"
      ],
      "execution_count": null,
      "outputs": [
        {
          "output_type": "stream",
          "text": [
            "Drive already mounted at /content/drive; to attempt to forcibly remount, call drive.mount(\"/content/drive\", force_remount=True).\n"
          ],
          "name": "stdout"
        }
      ]
    },
    {
      "cell_type": "code",
      "metadata": {
        "id": "hzDRZUvf7KG6"
      },
      "source": [
        "import os"
      ],
      "execution_count": null,
      "outputs": []
    },
    {
      "cell_type": "code",
      "metadata": {
        "id": "vJfqIWdG7gDz",
        "colab": {
          "base_uri": "https://localhost:8080/",
          "height": 34
        },
        "outputId": "738bf4e5-b388-4b64-c10b-513ff03db211"
      },
      "source": [
        "os.getcwd()"
      ],
      "execution_count": null,
      "outputs": [
        {
          "output_type": "execute_result",
          "data": {
            "text/plain": [
              "'/content'"
            ]
          },
          "metadata": {
            "tags": []
          },
          "execution_count": 3
        }
      ]
    },
    {
      "cell_type": "code",
      "metadata": {
        "id": "w10-P0T47iTj"
      },
      "source": [
        "os.chdir('/content/drive/My Drive/primaindia')"
      ],
      "execution_count": null,
      "outputs": []
    },
    {
      "cell_type": "code",
      "metadata": {
        "id": "FrKg4c6X7wT-",
        "colab": {
          "base_uri": "https://localhost:8080/",
          "height": 34
        },
        "outputId": "23f696cb-c612-4e24-92b7-eca6993a63ca"
      },
      "source": [
        "os.getcwd()"
      ],
      "execution_count": null,
      "outputs": [
        {
          "output_type": "execute_result",
          "data": {
            "text/plain": [
              "'/content/drive/My Drive/primaindia'"
            ]
          },
          "metadata": {
            "tags": []
          },
          "execution_count": 5
        }
      ]
    },
    {
      "cell_type": "code",
      "metadata": {
        "id": "b6udUDW58F_3"
      },
      "source": [
        "import pandas as pd"
      ],
      "execution_count": null,
      "outputs": []
    },
    {
      "cell_type": "code",
      "metadata": {
        "id": "NiDwEfQi8J5Y"
      },
      "source": [
        "df= pd.read_csv('diabetes.csv')"
      ],
      "execution_count": null,
      "outputs": []
    },
    {
      "cell_type": "code",
      "metadata": {
        "id": "-SbBBotn8QHm",
        "colab": {
          "base_uri": "https://localhost:8080/",
          "height": 297
        },
        "outputId": "57a8fc4e-3c37-438f-c691-fc50ed6e4013"
      },
      "source": [
        "df.describe()"
      ],
      "execution_count": null,
      "outputs": [
        {
          "output_type": "execute_result",
          "data": {
            "text/html": [
              "<div>\n",
              "<style scoped>\n",
              "    .dataframe tbody tr th:only-of-type {\n",
              "        vertical-align: middle;\n",
              "    }\n",
              "\n",
              "    .dataframe tbody tr th {\n",
              "        vertical-align: top;\n",
              "    }\n",
              "\n",
              "    .dataframe thead th {\n",
              "        text-align: right;\n",
              "    }\n",
              "</style>\n",
              "<table border=\"1\" class=\"dataframe\">\n",
              "  <thead>\n",
              "    <tr style=\"text-align: right;\">\n",
              "      <th></th>\n",
              "      <th>Pregnancies</th>\n",
              "      <th>Glucose</th>\n",
              "      <th>BloodPressure</th>\n",
              "      <th>SkinThickness</th>\n",
              "      <th>Insulin</th>\n",
              "      <th>BMI</th>\n",
              "      <th>DiabetesPedigreeFunction</th>\n",
              "      <th>Age</th>\n",
              "      <th>Outcome</th>\n",
              "    </tr>\n",
              "  </thead>\n",
              "  <tbody>\n",
              "    <tr>\n",
              "      <th>count</th>\n",
              "      <td>768.000000</td>\n",
              "      <td>768.000000</td>\n",
              "      <td>768.000000</td>\n",
              "      <td>768.000000</td>\n",
              "      <td>768.000000</td>\n",
              "      <td>768.000000</td>\n",
              "      <td>768.000000</td>\n",
              "      <td>768.000000</td>\n",
              "      <td>768.000000</td>\n",
              "    </tr>\n",
              "    <tr>\n",
              "      <th>mean</th>\n",
              "      <td>3.845052</td>\n",
              "      <td>120.894531</td>\n",
              "      <td>69.105469</td>\n",
              "      <td>20.536458</td>\n",
              "      <td>79.799479</td>\n",
              "      <td>31.992578</td>\n",
              "      <td>0.471876</td>\n",
              "      <td>33.240885</td>\n",
              "      <td>0.348958</td>\n",
              "    </tr>\n",
              "    <tr>\n",
              "      <th>std</th>\n",
              "      <td>3.369578</td>\n",
              "      <td>31.972618</td>\n",
              "      <td>19.355807</td>\n",
              "      <td>15.952218</td>\n",
              "      <td>115.244002</td>\n",
              "      <td>7.884160</td>\n",
              "      <td>0.331329</td>\n",
              "      <td>11.760232</td>\n",
              "      <td>0.476951</td>\n",
              "    </tr>\n",
              "    <tr>\n",
              "      <th>min</th>\n",
              "      <td>0.000000</td>\n",
              "      <td>0.000000</td>\n",
              "      <td>0.000000</td>\n",
              "      <td>0.000000</td>\n",
              "      <td>0.000000</td>\n",
              "      <td>0.000000</td>\n",
              "      <td>0.078000</td>\n",
              "      <td>21.000000</td>\n",
              "      <td>0.000000</td>\n",
              "    </tr>\n",
              "    <tr>\n",
              "      <th>25%</th>\n",
              "      <td>1.000000</td>\n",
              "      <td>99.000000</td>\n",
              "      <td>62.000000</td>\n",
              "      <td>0.000000</td>\n",
              "      <td>0.000000</td>\n",
              "      <td>27.300000</td>\n",
              "      <td>0.243750</td>\n",
              "      <td>24.000000</td>\n",
              "      <td>0.000000</td>\n",
              "    </tr>\n",
              "    <tr>\n",
              "      <th>50%</th>\n",
              "      <td>3.000000</td>\n",
              "      <td>117.000000</td>\n",
              "      <td>72.000000</td>\n",
              "      <td>23.000000</td>\n",
              "      <td>30.500000</td>\n",
              "      <td>32.000000</td>\n",
              "      <td>0.372500</td>\n",
              "      <td>29.000000</td>\n",
              "      <td>0.000000</td>\n",
              "    </tr>\n",
              "    <tr>\n",
              "      <th>75%</th>\n",
              "      <td>6.000000</td>\n",
              "      <td>140.250000</td>\n",
              "      <td>80.000000</td>\n",
              "      <td>32.000000</td>\n",
              "      <td>127.250000</td>\n",
              "      <td>36.600000</td>\n",
              "      <td>0.626250</td>\n",
              "      <td>41.000000</td>\n",
              "      <td>1.000000</td>\n",
              "    </tr>\n",
              "    <tr>\n",
              "      <th>max</th>\n",
              "      <td>17.000000</td>\n",
              "      <td>199.000000</td>\n",
              "      <td>122.000000</td>\n",
              "      <td>99.000000</td>\n",
              "      <td>846.000000</td>\n",
              "      <td>67.100000</td>\n",
              "      <td>2.420000</td>\n",
              "      <td>81.000000</td>\n",
              "      <td>1.000000</td>\n",
              "    </tr>\n",
              "  </tbody>\n",
              "</table>\n",
              "</div>"
            ],
            "text/plain": [
              "       Pregnancies     Glucose  ...         Age     Outcome\n",
              "count   768.000000  768.000000  ...  768.000000  768.000000\n",
              "mean      3.845052  120.894531  ...   33.240885    0.348958\n",
              "std       3.369578   31.972618  ...   11.760232    0.476951\n",
              "min       0.000000    0.000000  ...   21.000000    0.000000\n",
              "25%       1.000000   99.000000  ...   24.000000    0.000000\n",
              "50%       3.000000  117.000000  ...   29.000000    0.000000\n",
              "75%       6.000000  140.250000  ...   41.000000    1.000000\n",
              "max      17.000000  199.000000  ...   81.000000    1.000000\n",
              "\n",
              "[8 rows x 9 columns]"
            ]
          },
          "metadata": {
            "tags": []
          },
          "execution_count": 8
        }
      ]
    },
    {
      "cell_type": "code",
      "metadata": {
        "id": "dBiw3xpu84oi"
      },
      "source": [
        "y = df['Outcome']\n",
        "df = df.drop(['Outcome'],axis=1)\n",
        "X= df"
      ],
      "execution_count": null,
      "outputs": []
    },
    {
      "cell_type": "code",
      "metadata": {
        "id": "DFvsEyAO8SLl"
      },
      "source": [
        "from sklearn.model_selection import train_test_split"
      ],
      "execution_count": null,
      "outputs": []
    },
    {
      "cell_type": "code",
      "metadata": {
        "id": "IbMxNtPD8mfb"
      },
      "source": [
        "X_train, X_test, y_train, y_test = train_test_split(X, y, test_size=0.05, random_state=42)"
      ],
      "execution_count": null,
      "outputs": []
    },
    {
      "cell_type": "code",
      "metadata": {
        "id": "hHtp-GlL8zcW"
      },
      "source": [
        "X_train1, X_train2, y_train1, y_train2 = train_test_split(X_train, y_train, test_size=0.33, random_state=42)"
      ],
      "execution_count": null,
      "outputs": []
    },
    {
      "cell_type": "code",
      "metadata": {
        "id": "vuGWI5OF9KO1"
      },
      "source": [
        "X_train1, X_train3, y_train1, y_train3= train_test_split(X_train1, y_train1, test_size=0.5, random_state=42)"
      ],
      "execution_count": null,
      "outputs": []
    },
    {
      "cell_type": "code",
      "metadata": {
        "id": "bQVB4aLa9-nx"
      },
      "source": [
        "X_train1.to_csv('data1.csv')\n",
        "y_train1.to_csv('target1.csv')"
      ],
      "execution_count": null,
      "outputs": []
    },
    {
      "cell_type": "code",
      "metadata": {
        "id": "rc5zM-bP-v9b"
      },
      "source": [
        "X_train2.to_csv('data2.csv')\n",
        "y_train2.to_csv('target2.csv')\n",
        "X_train3.to_csv('data3.csv')\n",
        "y_train3.to_csv('target3.csv')"
      ],
      "execution_count": null,
      "outputs": []
    },
    {
      "cell_type": "code",
      "metadata": {
        "id": "D6rNnycJ_Jve",
        "colab": {
          "base_uri": "https://localhost:8080/",
          "height": 297
        },
        "outputId": "b5ae9c83-42b3-4467-e9ce-6efceba0e0a7"
      },
      "source": [
        "X_train1.describe()"
      ],
      "execution_count": null,
      "outputs": [
        {
          "output_type": "execute_result",
          "data": {
            "text/html": [
              "<div>\n",
              "<style scoped>\n",
              "    .dataframe tbody tr th:only-of-type {\n",
              "        vertical-align: middle;\n",
              "    }\n",
              "\n",
              "    .dataframe tbody tr th {\n",
              "        vertical-align: top;\n",
              "    }\n",
              "\n",
              "    .dataframe thead th {\n",
              "        text-align: right;\n",
              "    }\n",
              "</style>\n",
              "<table border=\"1\" class=\"dataframe\">\n",
              "  <thead>\n",
              "    <tr style=\"text-align: right;\">\n",
              "      <th></th>\n",
              "      <th>Pregnancies</th>\n",
              "      <th>Glucose</th>\n",
              "      <th>BloodPressure</th>\n",
              "      <th>SkinThickness</th>\n",
              "      <th>Insulin</th>\n",
              "      <th>BMI</th>\n",
              "      <th>DiabetesPedigreeFunction</th>\n",
              "      <th>Age</th>\n",
              "    </tr>\n",
              "  </thead>\n",
              "  <tbody>\n",
              "    <tr>\n",
              "      <th>count</th>\n",
              "      <td>244.000000</td>\n",
              "      <td>244.000000</td>\n",
              "      <td>244.000000</td>\n",
              "      <td>244.000000</td>\n",
              "      <td>244.000000</td>\n",
              "      <td>244.000000</td>\n",
              "      <td>244.000000</td>\n",
              "      <td>244.000000</td>\n",
              "    </tr>\n",
              "    <tr>\n",
              "      <th>mean</th>\n",
              "      <td>3.967213</td>\n",
              "      <td>120.778689</td>\n",
              "      <td>70.196721</td>\n",
              "      <td>20.340164</td>\n",
              "      <td>77.782787</td>\n",
              "      <td>32.414754</td>\n",
              "      <td>0.456012</td>\n",
              "      <td>32.676230</td>\n",
              "    </tr>\n",
              "    <tr>\n",
              "      <th>std</th>\n",
              "      <td>3.431719</td>\n",
              "      <td>32.636295</td>\n",
              "      <td>17.069762</td>\n",
              "      <td>15.364537</td>\n",
              "      <td>111.543003</td>\n",
              "      <td>7.076358</td>\n",
              "      <td>0.321203</td>\n",
              "      <td>11.147242</td>\n",
              "    </tr>\n",
              "    <tr>\n",
              "      <th>min</th>\n",
              "      <td>0.000000</td>\n",
              "      <td>0.000000</td>\n",
              "      <td>0.000000</td>\n",
              "      <td>0.000000</td>\n",
              "      <td>0.000000</td>\n",
              "      <td>0.000000</td>\n",
              "      <td>0.078000</td>\n",
              "      <td>21.000000</td>\n",
              "    </tr>\n",
              "    <tr>\n",
              "      <th>25%</th>\n",
              "      <td>1.000000</td>\n",
              "      <td>97.750000</td>\n",
              "      <td>63.500000</td>\n",
              "      <td>0.000000</td>\n",
              "      <td>0.000000</td>\n",
              "      <td>27.250000</td>\n",
              "      <td>0.232500</td>\n",
              "      <td>23.750000</td>\n",
              "    </tr>\n",
              "    <tr>\n",
              "      <th>50%</th>\n",
              "      <td>3.000000</td>\n",
              "      <td>114.000000</td>\n",
              "      <td>72.000000</td>\n",
              "      <td>21.500000</td>\n",
              "      <td>36.500000</td>\n",
              "      <td>32.750000</td>\n",
              "      <td>0.349500</td>\n",
              "      <td>29.000000</td>\n",
              "    </tr>\n",
              "    <tr>\n",
              "      <th>75%</th>\n",
              "      <td>6.000000</td>\n",
              "      <td>141.250000</td>\n",
              "      <td>80.000000</td>\n",
              "      <td>32.250000</td>\n",
              "      <td>121.250000</td>\n",
              "      <td>36.900000</td>\n",
              "      <td>0.598500</td>\n",
              "      <td>40.250000</td>\n",
              "    </tr>\n",
              "    <tr>\n",
              "      <th>max</th>\n",
              "      <td>14.000000</td>\n",
              "      <td>197.000000</td>\n",
              "      <td>114.000000</td>\n",
              "      <td>50.000000</td>\n",
              "      <td>543.000000</td>\n",
              "      <td>57.300000</td>\n",
              "      <td>2.137000</td>\n",
              "      <td>68.000000</td>\n",
              "    </tr>\n",
              "  </tbody>\n",
              "</table>\n",
              "</div>"
            ],
            "text/plain": [
              "       Pregnancies     Glucose  ...  DiabetesPedigreeFunction         Age\n",
              "count   244.000000  244.000000  ...                244.000000  244.000000\n",
              "mean      3.967213  120.778689  ...                  0.456012   32.676230\n",
              "std       3.431719   32.636295  ...                  0.321203   11.147242\n",
              "min       0.000000    0.000000  ...                  0.078000   21.000000\n",
              "25%       1.000000   97.750000  ...                  0.232500   23.750000\n",
              "50%       3.000000  114.000000  ...                  0.349500   29.000000\n",
              "75%       6.000000  141.250000  ...                  0.598500   40.250000\n",
              "max      14.000000  197.000000  ...                  2.137000   68.000000\n",
              "\n",
              "[8 rows x 8 columns]"
            ]
          },
          "metadata": {
            "tags": []
          },
          "execution_count": 16
        }
      ]
    },
    {
      "cell_type": "code",
      "metadata": {
        "id": "4pteSIeI_pu_",
        "colab": {
          "base_uri": "https://localhost:8080/",
          "height": 297
        },
        "outputId": "0f7a2b67-1bc7-4a92-cf8c-06b5d8c81724"
      },
      "source": [
        "X_train2.describe()"
      ],
      "execution_count": null,
      "outputs": [
        {
          "output_type": "execute_result",
          "data": {
            "text/html": [
              "<div>\n",
              "<style scoped>\n",
              "    .dataframe tbody tr th:only-of-type {\n",
              "        vertical-align: middle;\n",
              "    }\n",
              "\n",
              "    .dataframe tbody tr th {\n",
              "        vertical-align: top;\n",
              "    }\n",
              "\n",
              "    .dataframe thead th {\n",
              "        text-align: right;\n",
              "    }\n",
              "</style>\n",
              "<table border=\"1\" class=\"dataframe\">\n",
              "  <thead>\n",
              "    <tr style=\"text-align: right;\">\n",
              "      <th></th>\n",
              "      <th>Pregnancies</th>\n",
              "      <th>Glucose</th>\n",
              "      <th>BloodPressure</th>\n",
              "      <th>SkinThickness</th>\n",
              "      <th>Insulin</th>\n",
              "      <th>BMI</th>\n",
              "      <th>DiabetesPedigreeFunction</th>\n",
              "      <th>Age</th>\n",
              "    </tr>\n",
              "  </thead>\n",
              "  <tbody>\n",
              "    <tr>\n",
              "      <th>count</th>\n",
              "      <td>241.000000</td>\n",
              "      <td>241.000000</td>\n",
              "      <td>241.000000</td>\n",
              "      <td>241.000000</td>\n",
              "      <td>241.000000</td>\n",
              "      <td>241.000000</td>\n",
              "      <td>241.000000</td>\n",
              "      <td>241.000000</td>\n",
              "    </tr>\n",
              "    <tr>\n",
              "      <th>mean</th>\n",
              "      <td>3.514523</td>\n",
              "      <td>119.423237</td>\n",
              "      <td>68.879668</td>\n",
              "      <td>21.232365</td>\n",
              "      <td>82.560166</td>\n",
              "      <td>31.736100</td>\n",
              "      <td>0.488154</td>\n",
              "      <td>33.336100</td>\n",
              "    </tr>\n",
              "    <tr>\n",
              "      <th>std</th>\n",
              "      <td>3.204293</td>\n",
              "      <td>31.157184</td>\n",
              "      <td>17.938263</td>\n",
              "      <td>15.587253</td>\n",
              "      <td>111.434498</td>\n",
              "      <td>7.400247</td>\n",
              "      <td>0.349651</td>\n",
              "      <td>11.825075</td>\n",
              "    </tr>\n",
              "    <tr>\n",
              "      <th>min</th>\n",
              "      <td>0.000000</td>\n",
              "      <td>0.000000</td>\n",
              "      <td>0.000000</td>\n",
              "      <td>0.000000</td>\n",
              "      <td>0.000000</td>\n",
              "      <td>0.000000</td>\n",
              "      <td>0.085000</td>\n",
              "      <td>21.000000</td>\n",
              "    </tr>\n",
              "    <tr>\n",
              "      <th>25%</th>\n",
              "      <td>1.000000</td>\n",
              "      <td>99.000000</td>\n",
              "      <td>64.000000</td>\n",
              "      <td>0.000000</td>\n",
              "      <td>0.000000</td>\n",
              "      <td>26.700000</td>\n",
              "      <td>0.253000</td>\n",
              "      <td>24.000000</td>\n",
              "    </tr>\n",
              "    <tr>\n",
              "      <th>50%</th>\n",
              "      <td>2.000000</td>\n",
              "      <td>119.000000</td>\n",
              "      <td>70.000000</td>\n",
              "      <td>24.000000</td>\n",
              "      <td>49.000000</td>\n",
              "      <td>31.200000</td>\n",
              "      <td>0.395000</td>\n",
              "      <td>29.000000</td>\n",
              "    </tr>\n",
              "    <tr>\n",
              "      <th>75%</th>\n",
              "      <td>6.000000</td>\n",
              "      <td>137.000000</td>\n",
              "      <td>78.000000</td>\n",
              "      <td>32.000000</td>\n",
              "      <td>135.000000</td>\n",
              "      <td>35.800000</td>\n",
              "      <td>0.652000</td>\n",
              "      <td>41.000000</td>\n",
              "    </tr>\n",
              "    <tr>\n",
              "      <th>max</th>\n",
              "      <td>13.000000</td>\n",
              "      <td>195.000000</td>\n",
              "      <td>122.000000</td>\n",
              "      <td>60.000000</td>\n",
              "      <td>600.000000</td>\n",
              "      <td>52.300000</td>\n",
              "      <td>2.288000</td>\n",
              "      <td>81.000000</td>\n",
              "    </tr>\n",
              "  </tbody>\n",
              "</table>\n",
              "</div>"
            ],
            "text/plain": [
              "       Pregnancies     Glucose  ...  DiabetesPedigreeFunction         Age\n",
              "count   241.000000  241.000000  ...                241.000000  241.000000\n",
              "mean      3.514523  119.423237  ...                  0.488154   33.336100\n",
              "std       3.204293   31.157184  ...                  0.349651   11.825075\n",
              "min       0.000000    0.000000  ...                  0.085000   21.000000\n",
              "25%       1.000000   99.000000  ...                  0.253000   24.000000\n",
              "50%       2.000000  119.000000  ...                  0.395000   29.000000\n",
              "75%       6.000000  137.000000  ...                  0.652000   41.000000\n",
              "max      13.000000  195.000000  ...                  2.288000   81.000000\n",
              "\n",
              "[8 rows x 8 columns]"
            ]
          },
          "metadata": {
            "tags": []
          },
          "execution_count": 17
        }
      ]
    },
    {
      "cell_type": "code",
      "metadata": {
        "id": "zCyDM5xu_sd_",
        "colab": {
          "base_uri": "https://localhost:8080/",
          "height": 297
        },
        "outputId": "165175fc-553a-4e66-8dc2-b1474b84e906"
      },
      "source": [
        "X_train3.describe()"
      ],
      "execution_count": null,
      "outputs": [
        {
          "output_type": "execute_result",
          "data": {
            "text/html": [
              "<div>\n",
              "<style scoped>\n",
              "    .dataframe tbody tr th:only-of-type {\n",
              "        vertical-align: middle;\n",
              "    }\n",
              "\n",
              "    .dataframe tbody tr th {\n",
              "        vertical-align: top;\n",
              "    }\n",
              "\n",
              "    .dataframe thead th {\n",
              "        text-align: right;\n",
              "    }\n",
              "</style>\n",
              "<table border=\"1\" class=\"dataframe\">\n",
              "  <thead>\n",
              "    <tr style=\"text-align: right;\">\n",
              "      <th></th>\n",
              "      <th>Pregnancies</th>\n",
              "      <th>Glucose</th>\n",
              "      <th>BloodPressure</th>\n",
              "      <th>SkinThickness</th>\n",
              "      <th>Insulin</th>\n",
              "      <th>BMI</th>\n",
              "      <th>DiabetesPedigreeFunction</th>\n",
              "      <th>Age</th>\n",
              "    </tr>\n",
              "  </thead>\n",
              "  <tbody>\n",
              "    <tr>\n",
              "      <th>count</th>\n",
              "      <td>244.000000</td>\n",
              "      <td>244.000000</td>\n",
              "      <td>244.000000</td>\n",
              "      <td>244.000000</td>\n",
              "      <td>244.000000</td>\n",
              "      <td>244.000000</td>\n",
              "      <td>244.000000</td>\n",
              "      <td>244.000000</td>\n",
              "    </tr>\n",
              "    <tr>\n",
              "      <th>mean</th>\n",
              "      <td>3.991803</td>\n",
              "      <td>121.922131</td>\n",
              "      <td>68.508197</td>\n",
              "      <td>19.491803</td>\n",
              "      <td>81.864754</td>\n",
              "      <td>31.641393</td>\n",
              "      <td>0.478016</td>\n",
              "      <td>33.012295</td>\n",
              "    </tr>\n",
              "    <tr>\n",
              "      <th>std</th>\n",
              "      <td>3.449807</td>\n",
              "      <td>32.028120</td>\n",
              "      <td>22.218795</td>\n",
              "      <td>16.192894</td>\n",
              "      <td>126.718224</td>\n",
              "      <td>9.229540</td>\n",
              "      <td>0.330204</td>\n",
              "      <td>11.904794</td>\n",
              "    </tr>\n",
              "    <tr>\n",
              "      <th>min</th>\n",
              "      <td>0.000000</td>\n",
              "      <td>0.000000</td>\n",
              "      <td>0.000000</td>\n",
              "      <td>0.000000</td>\n",
              "      <td>0.000000</td>\n",
              "      <td>0.000000</td>\n",
              "      <td>0.084000</td>\n",
              "      <td>21.000000</td>\n",
              "    </tr>\n",
              "    <tr>\n",
              "      <th>25%</th>\n",
              "      <td>1.000000</td>\n",
              "      <td>101.000000</td>\n",
              "      <td>62.000000</td>\n",
              "      <td>0.000000</td>\n",
              "      <td>0.000000</td>\n",
              "      <td>27.475000</td>\n",
              "      <td>0.256750</td>\n",
              "      <td>24.000000</td>\n",
              "    </tr>\n",
              "    <tr>\n",
              "      <th>50%</th>\n",
              "      <td>3.000000</td>\n",
              "      <td>120.000000</td>\n",
              "      <td>72.000000</td>\n",
              "      <td>23.000000</td>\n",
              "      <td>0.000000</td>\n",
              "      <td>32.050000</td>\n",
              "      <td>0.390000</td>\n",
              "      <td>29.000000</td>\n",
              "    </tr>\n",
              "    <tr>\n",
              "      <th>75%</th>\n",
              "      <td>6.000000</td>\n",
              "      <td>140.250000</td>\n",
              "      <td>80.000000</td>\n",
              "      <td>32.000000</td>\n",
              "      <td>130.000000</td>\n",
              "      <td>36.600000</td>\n",
              "      <td>0.640000</td>\n",
              "      <td>39.000000</td>\n",
              "    </tr>\n",
              "    <tr>\n",
              "      <th>max</th>\n",
              "      <td>17.000000</td>\n",
              "      <td>199.000000</td>\n",
              "      <td>110.000000</td>\n",
              "      <td>63.000000</td>\n",
              "      <td>846.000000</td>\n",
              "      <td>67.100000</td>\n",
              "      <td>2.420000</td>\n",
              "      <td>72.000000</td>\n",
              "    </tr>\n",
              "  </tbody>\n",
              "</table>\n",
              "</div>"
            ],
            "text/plain": [
              "       Pregnancies     Glucose  ...  DiabetesPedigreeFunction         Age\n",
              "count   244.000000  244.000000  ...                244.000000  244.000000\n",
              "mean      3.991803  121.922131  ...                  0.478016   33.012295\n",
              "std       3.449807   32.028120  ...                  0.330204   11.904794\n",
              "min       0.000000    0.000000  ...                  0.084000   21.000000\n",
              "25%       1.000000  101.000000  ...                  0.256750   24.000000\n",
              "50%       3.000000  120.000000  ...                  0.390000   29.000000\n",
              "75%       6.000000  140.250000  ...                  0.640000   39.000000\n",
              "max      17.000000  199.000000  ...                  2.420000   72.000000\n",
              "\n",
              "[8 rows x 8 columns]"
            ]
          },
          "metadata": {
            "tags": []
          },
          "execution_count": 18
        }
      ]
    },
    {
      "cell_type": "code",
      "metadata": {
        "id": "AeVWcSGB_uou"
      },
      "source": [
        "from sklearn import tree"
      ],
      "execution_count": null,
      "outputs": []
    },
    {
      "cell_type": "code",
      "metadata": {
        "id": "tb9QF88AA5AZ",
        "colab": {
          "base_uri": "https://localhost:8080/",
          "height": 1000
        },
        "outputId": "59e8a1c9-1a5f-45f9-d69b-1f0300e338c1"
      },
      "source": [
        "clf = tree.DecisionTreeClassifier()\n",
        "tree.plot_tree(clf.fit(X_train1, y_train1)) "
      ],
      "execution_count": null,
      "outputs": [
        {
          "output_type": "execute_result",
          "data": {
            "text/plain": [
              "[Text(204.38863636363635, 209.6742857142857, 'X[1] <= 154.5\\ngini = 0.451\\nsamples = 244\\nvalue = [160, 84]'),\n",
              " Text(124.70454545454545, 194.14285714285714, 'X[1] <= 112.5\\ngini = 0.351\\nsamples = 198\\nvalue = [153, 45]'),\n",
              " Text(76.0909090909091, 178.61142857142858, 'X[6] <= 0.674\\ngini = 0.222\\nsamples = 118\\nvalue = [103, 15]'),\n",
              " Text(43.96363636363636, 163.07999999999998, 'X[5] <= 49.25\\ngini = 0.146\\nsamples = 101\\nvalue = [93, 8]'),\n",
              " Text(37.2, 147.54857142857142, 'X[7] <= 35.5\\ngini = 0.13\\nsamples = 100\\nvalue = [93, 7]'),\n",
              " Text(13.527272727272727, 132.01714285714286, 'X[3] <= 31.5\\ngini = 0.073\\nsamples = 79\\nvalue = [76, 3]'),\n",
              " Text(6.763636363636364, 116.48571428571428, 'gini = 0.0\\nsamples = 58\\nvalue = [58, 0]'),\n",
              " Text(20.29090909090909, 116.48571428571428, 'X[2] <= 53.0\\ngini = 0.245\\nsamples = 21\\nvalue = [18, 3]'),\n",
              " Text(13.527272727272727, 100.9542857142857, 'gini = 0.0\\nsamples = 1\\nvalue = [0, 1]'),\n",
              " Text(27.054545454545455, 100.9542857142857, 'X[6] <= 0.452\\ngini = 0.18\\nsamples = 20\\nvalue = [18, 2]'),\n",
              " Text(20.29090909090909, 85.42285714285714, 'gini = 0.0\\nsamples = 16\\nvalue = [16, 0]'),\n",
              " Text(33.81818181818182, 85.42285714285714, 'X[2] <= 62.0\\ngini = 0.5\\nsamples = 4\\nvalue = [2, 2]'),\n",
              " Text(27.054545454545455, 69.89142857142858, 'gini = 0.0\\nsamples = 2\\nvalue = [2, 0]'),\n",
              " Text(40.58181818181818, 69.89142857142858, 'gini = 0.0\\nsamples = 2\\nvalue = [0, 2]'),\n",
              " Text(60.872727272727275, 132.01714285714286, 'X[1] <= 101.0\\ngini = 0.308\\nsamples = 21\\nvalue = [17, 4]'),\n",
              " Text(47.345454545454544, 116.48571428571428, 'X[0] <= 11.0\\ngini = 0.124\\nsamples = 15\\nvalue = [14, 1]'),\n",
              " Text(40.58181818181818, 100.9542857142857, 'gini = 0.0\\nsamples = 12\\nvalue = [12, 0]'),\n",
              " Text(54.10909090909091, 100.9542857142857, 'X[6] <= 0.337\\ngini = 0.444\\nsamples = 3\\nvalue = [2, 1]'),\n",
              " Text(47.345454545454544, 85.42285714285714, 'gini = 0.0\\nsamples = 1\\nvalue = [0, 1]'),\n",
              " Text(60.872727272727275, 85.42285714285714, 'gini = 0.0\\nsamples = 2\\nvalue = [2, 0]'),\n",
              " Text(74.4, 116.48571428571428, 'X[2] <= 68.0\\ngini = 0.5\\nsamples = 6\\nvalue = [3, 3]'),\n",
              " Text(67.63636363636364, 100.9542857142857, 'gini = 0.0\\nsamples = 2\\nvalue = [0, 2]'),\n",
              " Text(81.16363636363636, 100.9542857142857, 'X[1] <= 103.5\\ngini = 0.375\\nsamples = 4\\nvalue = [3, 1]'),\n",
              " Text(74.4, 85.42285714285714, 'gini = 0.0\\nsamples = 1\\nvalue = [0, 1]'),\n",
              " Text(87.92727272727272, 85.42285714285714, 'gini = 0.0\\nsamples = 3\\nvalue = [3, 0]'),\n",
              " Text(50.72727272727273, 147.54857142857142, 'gini = 0.0\\nsamples = 1\\nvalue = [0, 1]'),\n",
              " Text(108.21818181818182, 163.07999999999998, 'X[2] <= 61.0\\ngini = 0.484\\nsamples = 17\\nvalue = [10, 7]'),\n",
              " Text(101.45454545454545, 147.54857142857142, 'gini = 0.0\\nsamples = 6\\nvalue = [6, 0]'),\n",
              " Text(114.98181818181818, 147.54857142857142, 'X[2] <= 87.0\\ngini = 0.463\\nsamples = 11\\nvalue = [4, 7]'),\n",
              " Text(108.21818181818182, 132.01714285714286, 'X[1] <= 110.5\\ngini = 0.346\\nsamples = 9\\nvalue = [2, 7]'),\n",
              " Text(101.45454545454545, 116.48571428571428, 'X[0] <= 1.5\\ngini = 0.219\\nsamples = 8\\nvalue = [1, 7]'),\n",
              " Text(94.69090909090909, 100.9542857142857, 'gini = 0.0\\nsamples = 1\\nvalue = [1, 0]'),\n",
              " Text(108.21818181818182, 100.9542857142857, 'gini = 0.0\\nsamples = 7\\nvalue = [0, 7]'),\n",
              " Text(114.98181818181818, 116.48571428571428, 'gini = 0.0\\nsamples = 1\\nvalue = [1, 0]'),\n",
              " Text(121.74545454545455, 132.01714285714286, 'gini = 0.0\\nsamples = 2\\nvalue = [2, 0]'),\n",
              " Text(173.3181818181818, 178.61142857142858, 'X[5] <= 26.35\\ngini = 0.469\\nsamples = 80\\nvalue = [50, 30]'),\n",
              " Text(148.8, 163.07999999999998, 'X[2] <= 56.0\\ngini = 0.1\\nsamples = 19\\nvalue = [18, 1]'),\n",
              " Text(142.03636363636363, 147.54857142857142, 'X[1] <= 129.0\\ngini = 0.444\\nsamples = 3\\nvalue = [2, 1]'),\n",
              " Text(135.27272727272728, 132.01714285714286, 'gini = 0.0\\nsamples = 2\\nvalue = [2, 0]'),\n",
              " Text(148.8, 132.01714285714286, 'gini = 0.0\\nsamples = 1\\nvalue = [0, 1]'),\n",
              " Text(155.56363636363636, 147.54857142857142, 'gini = 0.0\\nsamples = 16\\nvalue = [16, 0]'),\n",
              " Text(197.83636363636364, 163.07999999999998, 'X[0] <= 5.5\\ngini = 0.499\\nsamples = 61\\nvalue = [32, 29]'),\n",
              " Text(169.0909090909091, 147.54857142857142, 'X[2] <= 54.0\\ngini = 0.458\\nsamples = 45\\nvalue = [29, 16]'),\n",
              " Text(162.3272727272727, 132.01714285714286, 'gini = 0.0\\nsamples = 3\\nvalue = [0, 3]'),\n",
              " Text(175.85454545454544, 132.01714285714286, 'X[1] <= 115.5\\ngini = 0.427\\nsamples = 42\\nvalue = [29, 13]'),\n",
              " Text(158.94545454545454, 116.48571428571428, 'X[5] <= 32.15\\ngini = 0.444\\nsamples = 6\\nvalue = [2, 4]'),\n",
              " Text(152.1818181818182, 100.9542857142857, 'X[7] <= 35.0\\ngini = 0.444\\nsamples = 3\\nvalue = [2, 1]'),\n",
              " Text(145.4181818181818, 85.42285714285714, 'gini = 0.0\\nsamples = 2\\nvalue = [2, 0]'),\n",
              " Text(158.94545454545454, 85.42285714285714, 'gini = 0.0\\nsamples = 1\\nvalue = [0, 1]'),\n",
              " Text(165.70909090909092, 100.9542857142857, 'gini = 0.0\\nsamples = 3\\nvalue = [0, 3]'),\n",
              " Text(192.76363636363635, 116.48571428571428, 'X[3] <= 40.5\\ngini = 0.375\\nsamples = 36\\nvalue = [27, 9]'),\n",
              " Text(179.23636363636365, 100.9542857142857, 'X[0] <= 0.5\\ngini = 0.278\\nsamples = 30\\nvalue = [25, 5]'),\n",
              " Text(172.47272727272727, 85.42285714285714, 'gini = 0.0\\nsamples = 9\\nvalue = [9, 0]'),\n",
              " Text(186.0, 85.42285714285714, 'X[5] <= 26.9\\ngini = 0.363\\nsamples = 21\\nvalue = [16, 5]'),\n",
              " Text(179.23636363636365, 69.89142857142858, 'gini = 0.0\\nsamples = 1\\nvalue = [0, 1]'),\n",
              " Text(192.76363636363635, 69.89142857142858, 'X[7] <= 37.0\\ngini = 0.32\\nsamples = 20\\nvalue = [16, 4]'),\n",
              " Text(179.23636363636365, 54.359999999999985, 'X[6] <= 0.621\\ngini = 0.219\\nsamples = 16\\nvalue = [14, 2]'),\n",
              " Text(172.47272727272727, 38.82857142857142, 'gini = 0.0\\nsamples = 11\\nvalue = [11, 0]'),\n",
              " Text(186.0, 38.82857142857142, 'X[1] <= 123.5\\ngini = 0.48\\nsamples = 5\\nvalue = [3, 2]'),\n",
              " Text(179.23636363636365, 23.29714285714286, 'gini = 0.0\\nsamples = 2\\nvalue = [2, 0]'),\n",
              " Text(192.76363636363635, 23.29714285714286, 'X[2] <= 62.0\\ngini = 0.444\\nsamples = 3\\nvalue = [1, 2]'),\n",
              " Text(186.0, 7.765714285714267, 'gini = 0.0\\nsamples = 1\\nvalue = [1, 0]'),\n",
              " Text(199.52727272727273, 7.765714285714267, 'gini = 0.0\\nsamples = 2\\nvalue = [0, 2]'),\n",
              " Text(206.29090909090908, 54.359999999999985, 'X[6] <= 0.235\\ngini = 0.5\\nsamples = 4\\nvalue = [2, 2]'),\n",
              " Text(199.52727272727273, 38.82857142857142, 'gini = 0.0\\nsamples = 1\\nvalue = [0, 1]'),\n",
              " Text(213.05454545454546, 38.82857142857142, 'X[0] <= 3.0\\ngini = 0.444\\nsamples = 3\\nvalue = [2, 1]'),\n",
              " Text(206.29090909090908, 23.29714285714286, 'gini = 0.0\\nsamples = 1\\nvalue = [0, 1]'),\n",
              " Text(219.8181818181818, 23.29714285714286, 'gini = 0.0\\nsamples = 2\\nvalue = [2, 0]'),\n",
              " Text(206.29090909090908, 100.9542857142857, 'X[6] <= 1.034\\ngini = 0.444\\nsamples = 6\\nvalue = [2, 4]'),\n",
              " Text(199.52727272727273, 85.42285714285714, 'gini = 0.0\\nsamples = 3\\nvalue = [0, 3]'),\n",
              " Text(213.05454545454546, 85.42285714285714, 'X[5] <= 35.45\\ngini = 0.444\\nsamples = 3\\nvalue = [2, 1]'),\n",
              " Text(206.29090909090908, 69.89142857142858, 'gini = 0.0\\nsamples = 1\\nvalue = [0, 1]'),\n",
              " Text(219.8181818181818, 69.89142857142858, 'gini = 0.0\\nsamples = 2\\nvalue = [2, 0]'),\n",
              " Text(226.5818181818182, 147.54857142857142, 'X[2] <= 83.5\\ngini = 0.305\\nsamples = 16\\nvalue = [3, 13]'),\n",
              " Text(213.05454545454546, 132.01714285714286, 'X[7] <= 59.5\\ngini = 0.142\\nsamples = 13\\nvalue = [1, 12]'),\n",
              " Text(206.29090909090908, 116.48571428571428, 'gini = 0.0\\nsamples = 12\\nvalue = [0, 12]'),\n",
              " Text(219.8181818181818, 116.48571428571428, 'gini = 0.0\\nsamples = 1\\nvalue = [1, 0]'),\n",
              " Text(240.10909090909092, 132.01714285714286, 'X[5] <= 32.1\\ngini = 0.444\\nsamples = 3\\nvalue = [2, 1]'),\n",
              " Text(233.34545454545454, 116.48571428571428, 'gini = 0.0\\nsamples = 1\\nvalue = [0, 1]'),\n",
              " Text(246.87272727272727, 116.48571428571428, 'gini = 0.0\\nsamples = 2\\nvalue = [2, 0]'),\n",
              " Text(284.07272727272726, 194.14285714285714, 'X[1] <= 165.5\\ngini = 0.258\\nsamples = 46\\nvalue = [7, 39]'),\n",
              " Text(260.4, 178.61142857142858, 'X[7] <= 26.5\\ngini = 0.459\\nsamples = 14\\nvalue = [5, 9]'),\n",
              " Text(253.63636363636363, 163.07999999999998, 'gini = 0.0\\nsamples = 3\\nvalue = [3, 0]'),\n",
              " Text(267.1636363636364, 163.07999999999998, 'X[1] <= 164.5\\ngini = 0.298\\nsamples = 11\\nvalue = [2, 9]'),\n",
              " Text(260.4, 147.54857142857142, 'X[7] <= 53.0\\ngini = 0.18\\nsamples = 10\\nvalue = [1, 9]'),\n",
              " Text(253.63636363636363, 132.01714285714286, 'gini = 0.0\\nsamples = 8\\nvalue = [0, 8]'),\n",
              " Text(267.1636363636364, 132.01714285714286, 'X[1] <= 160.0\\ngini = 0.5\\nsamples = 2\\nvalue = [1, 1]'),\n",
              " Text(260.4, 116.48571428571428, 'gini = 0.0\\nsamples = 1\\nvalue = [0, 1]'),\n",
              " Text(273.92727272727274, 116.48571428571428, 'gini = 0.0\\nsamples = 1\\nvalue = [1, 0]'),\n",
              " Text(273.92727272727274, 147.54857142857142, 'gini = 0.0\\nsamples = 1\\nvalue = [1, 0]'),\n",
              " Text(307.74545454545455, 178.61142857142858, 'X[6] <= 1.337\\ngini = 0.117\\nsamples = 32\\nvalue = [2, 30]'),\n",
              " Text(294.21818181818185, 163.07999999999998, 'X[1] <= 190.5\\ngini = 0.064\\nsamples = 30\\nvalue = [1, 29]'),\n",
              " Text(287.45454545454544, 147.54857142857142, 'gini = 0.0\\nsamples = 25\\nvalue = [0, 25]'),\n",
              " Text(300.9818181818182, 147.54857142857142, 'X[1] <= 193.0\\ngini = 0.32\\nsamples = 5\\nvalue = [1, 4]'),\n",
              " Text(294.21818181818185, 132.01714285714286, 'gini = 0.0\\nsamples = 1\\nvalue = [1, 0]'),\n",
              " Text(307.74545454545455, 132.01714285714286, 'gini = 0.0\\nsamples = 4\\nvalue = [0, 4]'),\n",
              " Text(321.27272727272725, 163.07999999999998, 'X[7] <= 35.0\\ngini = 0.5\\nsamples = 2\\nvalue = [1, 1]'),\n",
              " Text(314.5090909090909, 147.54857142857142, 'gini = 0.0\\nsamples = 1\\nvalue = [0, 1]'),\n",
              " Text(328.03636363636366, 147.54857142857142, 'gini = 0.0\\nsamples = 1\\nvalue = [1, 0]')]"
            ]
          },
          "metadata": {
            "tags": []
          },
          "execution_count": 20
        },
        {
          "output_type": "display_data",
          "data": {
            "image/png": "[encoded data removed]",
            "text/plain": [
              "<Figure size 432x288 with 1 Axes>"
            ]
          },
          "metadata": {
            "tags": [],
            "needs_background": "light"
          }
        }
      ]
    },
    {
      "cell_type": "code",
      "metadata": {
        "id": "SLjfZ88sBNOU",
        "colab": {
          "base_uri": "https://localhost:8080/",
          "height": 1000
        },
        "outputId": "c944aa02-48e5-42b1-94b3-d55f3d01f2f7"
      },
      "source": [
        "clf2 = tree.DecisionTreeClassifier()\n",
        "tree.plot_tree(clf2.fit(X_train2,y_train2))"
      ],
      "execution_count": null,
      "outputs": [
        {
          "output_type": "execute_result",
          "data": {
            "text/plain": [
              "[Text(133.77053571428573, 209.07692307692307, 'X[5] <= 28.2\\ngini = 0.444\\nsamples = 241\\nvalue = [161, 80]'),\n",
              " Text(39.85714285714286, 192.35076923076923, 'X[0] <= 11.0\\ngini = 0.093\\nsamples = 82\\nvalue = [78, 4]'),\n",
              " Text(31.885714285714286, 175.62461538461537, 'X[1] <= 161.5\\ngini = 0.071\\nsamples = 81\\nvalue = [78, 3]'),\n",
              " Text(15.942857142857143, 158.89846153846153, 'X[7] <= 59.0\\ngini = 0.026\\nsamples = 77\\nvalue = [76, 1]'),\n",
              " Text(7.9714285714285715, 142.1723076923077, 'gini = 0.0\\nsamples = 70\\nvalue = [70, 0]'),\n",
              " Text(23.914285714285715, 142.1723076923077, 'X[7] <= 61.0\\ngini = 0.245\\nsamples = 7\\nvalue = [6, 1]'),\n",
              " Text(15.942857142857143, 125.44615384615385, 'X[2] <= 81.0\\ngini = 0.5\\nsamples = 2\\nvalue = [1, 1]'),\n",
              " Text(7.9714285714285715, 108.72, 'gini = 0.0\\nsamples = 1\\nvalue = [0, 1]'),\n",
              " Text(23.914285714285715, 108.72, 'gini = 0.0\\nsamples = 1\\nvalue = [1, 0]'),\n",
              " Text(31.885714285714286, 125.44615384615385, 'gini = 0.0\\nsamples = 5\\nvalue = [5, 0]'),\n",
              " Text(47.82857142857143, 158.89846153846153, 'X[2] <= 77.0\\ngini = 0.5\\nsamples = 4\\nvalue = [2, 2]'),\n",
              " Text(39.85714285714286, 142.1723076923077, 'gini = 0.0\\nsamples = 2\\nvalue = [0, 2]'),\n",
              " Text(55.8, 142.1723076923077, 'gini = 0.0\\nsamples = 2\\nvalue = [2, 0]'),\n",
              " Text(47.82857142857143, 175.62461538461537, 'gini = 0.0\\nsamples = 1\\nvalue = [0, 1]'),\n",
              " Text(227.68392857142857, 192.35076923076923, 'X[1] <= 155.5\\ngini = 0.499\\nsamples = 159\\nvalue = [83, 76]'),\n",
              " Text(152.45357142857142, 175.62461538461537, 'X[7] <= 28.5\\ngini = 0.481\\nsamples = 132\\nvalue = [79, 53]'),\n",
              " Text(91.67142857142858, 158.89846153846153, 'X[6] <= 0.739\\ngini = 0.306\\nsamples = 53\\nvalue = [43, 10]'),\n",
              " Text(71.74285714285715, 142.1723076923077, 'X[1] <= 117.5\\ngini = 0.223\\nsamples = 47\\nvalue = [41, 6]'),\n",
              " Text(63.77142857142857, 125.44615384615385, 'gini = 0.0\\nsamples = 24\\nvalue = [24, 0]'),\n",
              " Text(79.71428571428572, 125.44615384615385, 'X[5] <= 32.45\\ngini = 0.386\\nsamples = 23\\nvalue = [17, 6]'),\n",
              " Text(63.77142857142857, 108.72, 'X[2] <= 68.0\\ngini = 0.49\\nsamples = 7\\nvalue = [3, 4]'),\n",
              " Text(55.8, 91.99384615384615, 'X[1] <= 141.5\\ngini = 0.375\\nsamples = 4\\nvalue = [3, 1]'),\n",
              " Text(47.82857142857143, 75.2676923076923, 'gini = 0.0\\nsamples = 3\\nvalue = [3, 0]'),\n",
              " Text(63.77142857142857, 75.2676923076923, 'gini = 0.0\\nsamples = 1\\nvalue = [0, 1]'),\n",
              " Text(71.74285714285715, 91.99384615384615, 'gini = 0.0\\nsamples = 3\\nvalue = [0, 3]'),\n",
              " Text(95.65714285714286, 108.72, 'X[6] <= 0.65\\ngini = 0.219\\nsamples = 16\\nvalue = [14, 2]'),\n",
              " Text(87.68571428571428, 91.99384615384615, 'X[6] <= 0.216\\ngini = 0.124\\nsamples = 15\\nvalue = [14, 1]'),\n",
              " Text(79.71428571428572, 75.2676923076923, 'X[1] <= 134.0\\ngini = 0.5\\nsamples = 2\\nvalue = [1, 1]'),\n",
              " Text(71.74285714285715, 58.541538461538465, 'gini = 0.0\\nsamples = 1\\nvalue = [0, 1]'),\n",
              " Text(87.68571428571428, 58.541538461538465, 'gini = 0.0\\nsamples = 1\\nvalue = [1, 0]'),\n",
              " Text(95.65714285714286, 75.2676923076923, 'gini = 0.0\\nsamples = 13\\nvalue = [13, 0]'),\n",
              " Text(103.62857142857143, 91.99384615384615, 'gini = 0.0\\nsamples = 1\\nvalue = [0, 1]'),\n",
              " Text(111.6, 142.1723076923077, 'X[3] <= 21.5\\ngini = 0.444\\nsamples = 6\\nvalue = [2, 4]'),\n",
              " Text(103.62857142857143, 125.44615384615385, 'gini = 0.0\\nsamples = 3\\nvalue = [0, 3]'),\n",
              " Text(119.57142857142857, 125.44615384615385, 'X[1] <= 90.0\\ngini = 0.444\\nsamples = 3\\nvalue = [2, 1]'),\n",
              " Text(111.6, 108.72, 'gini = 0.0\\nsamples = 1\\nvalue = [0, 1]'),\n",
              " Text(127.54285714285714, 108.72, 'gini = 0.0\\nsamples = 2\\nvalue = [2, 0]'),\n",
              " Text(213.2357142857143, 158.89846153846153, 'X[1] <= 89.5\\ngini = 0.496\\nsamples = 79\\nvalue = [36, 43]'),\n",
              " Text(205.2642857142857, 142.1723076923077, 'gini = 0.0\\nsamples = 10\\nvalue = [10, 0]'),\n",
              " Text(221.20714285714286, 142.1723076923077, 'X[1] <= 152.5\\ngini = 0.47\\nsamples = 69\\nvalue = [26, 43]'),\n",
              " Text(213.2357142857143, 125.44615384615385, 'X[6] <= 0.477\\ngini = 0.454\\nsamples = 66\\nvalue = [23, 43]'),\n",
              " Text(163.4142857142857, 108.72, 'X[4] <= 11.0\\ngini = 0.495\\nsamples = 42\\nvalue = [19, 23]'),\n",
              " Text(127.54285714285714, 91.99384615384615, 'X[5] <= 39.25\\ngini = 0.408\\nsamples = 21\\nvalue = [6, 15]'),\n",
              " Text(111.6, 75.2676923076923, 'X[6] <= 0.436\\ngini = 0.305\\nsamples = 16\\nvalue = [3, 13]'),\n",
              " Text(103.62857142857143, 58.541538461538465, 'X[0] <= 9.5\\ngini = 0.231\\nsamples = 15\\nvalue = [2, 13]'),\n",
              " Text(95.65714285714286, 41.81538461538463, 'X[5] <= 29.3\\ngini = 0.133\\nsamples = 14\\nvalue = [1, 13]'),\n",
              " Text(87.68571428571428, 25.089230769230767, 'X[6] <= 0.233\\ngini = 0.5\\nsamples = 2\\nvalue = [1, 1]'),\n",
              " Text(79.71428571428572, 8.363076923076932, 'gini = 0.0\\nsamples = 1\\nvalue = [1, 0]'),\n",
              " Text(95.65714285714286, 8.363076923076932, 'gini = 0.0\\nsamples = 1\\nvalue = [0, 1]'),\n",
              " Text(103.62857142857143, 25.089230769230767, 'gini = 0.0\\nsamples = 12\\nvalue = [0, 12]'),\n",
              " Text(111.6, 41.81538461538463, 'gini = 0.0\\nsamples = 1\\nvalue = [1, 0]'),\n",
              " Text(119.57142857142857, 58.541538461538465, 'gini = 0.0\\nsamples = 1\\nvalue = [1, 0]'),\n",
              " Text(143.4857142857143, 75.2676923076923, 'X[1] <= 105.5\\ngini = 0.48\\nsamples = 5\\nvalue = [3, 2]'),\n",
              " Text(135.5142857142857, 58.541538461538465, 'gini = 0.0\\nsamples = 2\\nvalue = [0, 2]'),\n",
              " Text(151.45714285714286, 58.541538461538465, 'gini = 0.0\\nsamples = 3\\nvalue = [3, 0]'),\n",
              " Text(199.28571428571428, 91.99384615384615, 'X[7] <= 40.5\\ngini = 0.472\\nsamples = 21\\nvalue = [13, 8]'),\n",
              " Text(175.37142857142857, 75.2676923076923, 'X[0] <= 0.5\\ngini = 0.298\\nsamples = 11\\nvalue = [9, 2]'),\n",
              " Text(167.4, 58.541538461538465, 'gini = 0.0\\nsamples = 1\\nvalue = [0, 1]'),\n",
              " Text(183.34285714285716, 58.541538461538465, 'X[3] <= 39.5\\ngini = 0.18\\nsamples = 10\\nvalue = [9, 1]'),\n",
              " Text(175.37142857142857, 41.81538461538463, 'gini = 0.0\\nsamples = 9\\nvalue = [9, 0]'),\n",
              " Text(191.31428571428572, 41.81538461538463, 'gini = 0.0\\nsamples = 1\\nvalue = [0, 1]'),\n",
              " Text(223.2, 75.2676923076923, 'X[1] <= 127.5\\ngini = 0.48\\nsamples = 10\\nvalue = [4, 6]'),\n",
              " Text(215.22857142857143, 58.541538461538465, 'X[3] <= 27.5\\ngini = 0.444\\nsamples = 6\\nvalue = [4, 2]'),\n",
              " Text(207.25714285714287, 41.81538461538463, 'gini = 0.0\\nsamples = 2\\nvalue = [0, 2]'),\n",
              " Text(223.2, 41.81538461538463, 'gini = 0.0\\nsamples = 4\\nvalue = [4, 0]'),\n",
              " Text(231.17142857142858, 58.541538461538465, 'gini = 0.0\\nsamples = 4\\nvalue = [0, 4]'),\n",
              " Text(263.0571428571429, 108.72, 'X[0] <= 0.5\\ngini = 0.278\\nsamples = 24\\nvalue = [4, 20]'),\n",
              " Text(247.11428571428573, 91.99384615384615, 'X[2] <= 61.0\\ngini = 0.444\\nsamples = 3\\nvalue = [2, 1]'),\n",
              " Text(239.14285714285714, 75.2676923076923, 'gini = 0.0\\nsamples = 1\\nvalue = [0, 1]'),\n",
              " Text(255.0857142857143, 75.2676923076923, 'gini = 0.0\\nsamples = 2\\nvalue = [2, 0]'),\n",
              " Text(279.0, 91.99384615384615, 'X[1] <= 130.5\\ngini = 0.172\\nsamples = 21\\nvalue = [2, 19]'),\n",
              " Text(271.0285714285714, 75.2676923076923, 'gini = 0.0\\nsamples = 14\\nvalue = [0, 14]'),\n",
              " Text(286.9714285714286, 75.2676923076923, 'X[1] <= 133.5\\ngini = 0.408\\nsamples = 7\\nvalue = [2, 5]'),\n",
              " Text(279.0, 58.541538461538465, 'gini = 0.0\\nsamples = 1\\nvalue = [1, 0]'),\n",
              " Text(294.9428571428571, 58.541538461538465, 'X[4] <= 306.5\\ngini = 0.278\\nsamples = 6\\nvalue = [1, 5]'),\n",
              " Text(286.9714285714286, 41.81538461538463, 'gini = 0.0\\nsamples = 5\\nvalue = [0, 5]'),\n",
              " Text(302.9142857142857, 41.81538461538463, 'gini = 0.0\\nsamples = 1\\nvalue = [1, 0]'),\n",
              " Text(229.17857142857144, 125.44615384615385, 'gini = 0.0\\nsamples = 3\\nvalue = [3, 0]'),\n",
              " Text(302.9142857142857, 175.62461538461537, 'X[7] <= 49.5\\ngini = 0.252\\nsamples = 27\\nvalue = [4, 23]'),\n",
              " Text(286.9714285714286, 158.89846153846153, 'X[5] <= 29.45\\ngini = 0.153\\nsamples = 24\\nvalue = [2, 22]'),\n",
              " Text(279.0, 142.1723076923077, 'gini = 0.0\\nsamples = 1\\nvalue = [1, 0]'),\n",
              " Text(294.9428571428571, 142.1723076923077, 'X[2] <= 65.0\\ngini = 0.083\\nsamples = 23\\nvalue = [1, 22]'),\n",
              " Text(286.9714285714286, 125.44615384615385, 'X[5] <= 34.05\\ngini = 0.444\\nsamples = 3\\nvalue = [1, 2]'),\n",
              " Text(279.0, 108.72, 'gini = 0.0\\nsamples = 1\\nvalue = [1, 0]'),\n",
              " Text(294.9428571428571, 108.72, 'gini = 0.0\\nsamples = 2\\nvalue = [0, 2]'),\n",
              " Text(302.9142857142857, 125.44615384615385, 'gini = 0.0\\nsamples = 20\\nvalue = [0, 20]'),\n",
              " Text(318.8571428571429, 158.89846153846153, 'X[2] <= 96.0\\ngini = 0.444\\nsamples = 3\\nvalue = [2, 1]'),\n",
              " Text(310.8857142857143, 142.1723076923077, 'gini = 0.0\\nsamples = 2\\nvalue = [2, 0]'),\n",
              " Text(326.8285714285714, 142.1723076923077, 'gini = 0.0\\nsamples = 1\\nvalue = [0, 1]')]"
            ]
          },
          "metadata": {
            "tags": []
          },
          "execution_count": 21
        },
        {
          "output_type": "display_data",
          "data": {
            "image/png": "[encoded data removed]",
            "text/plain": [
              "<Figure size 432x288 with 1 Axes>"
            ]
          },
          "metadata": {
            "tags": [],
            "needs_background": "light"
          }
        }
      ]
    },
    {
      "cell_type": "code",
      "metadata": {
        "id": "djZSF5WWBpRz",
        "colab": {
          "base_uri": "https://localhost:8080/",
          "height": 1000
        },
        "outputId": "5819e332-896a-407c-83a6-4820823f6370"
      },
      "source": [
        "clf3 = tree.DecisionTreeClassifier()\n",
        "tree.plot_tree(clf3.fit(X_train3,y_train3))"
      ],
      "execution_count": null,
      "outputs": [
        {
          "output_type": "execute_result",
          "data": {
            "text/plain": [
              "[Text(208.308375, 208.38, 'X[1] <= 130.5\\ngini = 0.466\\nsamples = 244\\nvalue = [154, 90]'),\n",
              " Text(101.90475, 190.26, 'X[7] <= 28.5\\ngini = 0.336\\nsamples = 159\\nvalue = [125, 34]'),\n",
              " Text(66.96000000000001, 172.14, 'X[5] <= 56.2\\ngini = 0.128\\nsamples = 87\\nvalue = [81, 6]'),\n",
              " Text(60.264, 154.01999999999998, 'X[0] <= 0.5\\ngini = 0.11\\nsamples = 86\\nvalue = [81, 5]'),\n",
              " Text(26.784000000000002, 135.89999999999998, 'X[6] <= 0.252\\ngini = 0.305\\nsamples = 16\\nvalue = [13, 3]'),\n",
              " Text(13.392000000000001, 117.77999999999999, 'X[4] <= 63.0\\ngini = 0.444\\nsamples = 3\\nvalue = [1, 2]'),\n",
              " Text(6.696000000000001, 99.66, 'gini = 0.0\\nsamples = 2\\nvalue = [0, 2]'),\n",
              " Text(20.088, 99.66, 'gini = 0.0\\nsamples = 1\\nvalue = [1, 0]'),\n",
              " Text(40.176, 117.77999999999999, 'X[6] <= 0.722\\ngini = 0.142\\nsamples = 13\\nvalue = [12, 1]'),\n",
              " Text(33.480000000000004, 99.66, 'gini = 0.0\\nsamples = 11\\nvalue = [11, 0]'),\n",
              " Text(46.87200000000001, 99.66, 'X[4] <= 142.0\\ngini = 0.5\\nsamples = 2\\nvalue = [1, 1]'),\n",
              " Text(40.176, 81.53999999999999, 'gini = 0.0\\nsamples = 1\\nvalue = [0, 1]'),\n",
              " Text(53.568000000000005, 81.53999999999999, 'gini = 0.0\\nsamples = 1\\nvalue = [1, 0]'),\n",
              " Text(93.74400000000001, 135.89999999999998, 'X[0] <= 4.5\\ngini = 0.056\\nsamples = 70\\nvalue = [68, 2]'),\n",
              " Text(80.352, 117.77999999999999, 'X[6] <= 0.207\\ngini = 0.03\\nsamples = 65\\nvalue = [64, 1]'),\n",
              " Text(73.656, 99.66, 'X[6] <= 0.192\\ngini = 0.165\\nsamples = 11\\nvalue = [10, 1]'),\n",
              " Text(66.96000000000001, 81.53999999999999, 'gini = 0.0\\nsamples = 10\\nvalue = [10, 0]'),\n",
              " Text(80.352, 81.53999999999999, 'gini = 0.0\\nsamples = 1\\nvalue = [0, 1]'),\n",
              " Text(87.048, 99.66, 'gini = 0.0\\nsamples = 54\\nvalue = [54, 0]'),\n",
              " Text(107.13600000000001, 117.77999999999999, 'X[4] <= 64.5\\ngini = 0.32\\nsamples = 5\\nvalue = [4, 1]'),\n",
              " Text(100.44000000000001, 99.66, 'gini = 0.0\\nsamples = 4\\nvalue = [4, 0]'),\n",
              " Text(113.83200000000001, 99.66, 'gini = 0.0\\nsamples = 1\\nvalue = [0, 1]'),\n",
              " Text(73.656, 154.01999999999998, 'gini = 0.0\\nsamples = 1\\nvalue = [0, 1]'),\n",
              " Text(136.8495, 172.14, 'X[6] <= 0.223\\ngini = 0.475\\nsamples = 72\\nvalue = [44, 28]'),\n",
              " Text(113.83200000000001, 154.01999999999998, 'X[7] <= 50.0\\ngini = 0.111\\nsamples = 17\\nvalue = [16, 1]'),\n",
              " Text(107.13600000000001, 135.89999999999998, 'gini = 0.0\\nsamples = 16\\nvalue = [16, 0]'),\n",
              " Text(120.528, 135.89999999999998, 'gini = 0.0\\nsamples = 1\\nvalue = [0, 1]'),\n",
              " Text(159.86700000000002, 154.01999999999998, 'X[1] <= 99.5\\ngini = 0.5\\nsamples = 55\\nvalue = [28, 27]'),\n",
              " Text(133.92000000000002, 135.89999999999998, 'X[5] <= 38.85\\ngini = 0.26\\nsamples = 13\\nvalue = [11, 2]'),\n",
              " Text(127.22400000000002, 117.77999999999999, 'gini = 0.0\\nsamples = 11\\nvalue = [11, 0]'),\n",
              " Text(140.616, 117.77999999999999, 'gini = 0.0\\nsamples = 2\\nvalue = [0, 2]'),\n",
              " Text(185.81400000000002, 135.89999999999998, 'X[3] <= 19.5\\ngini = 0.482\\nsamples = 42\\nvalue = [17, 25]'),\n",
              " Text(154.008, 117.77999999999999, 'X[0] <= 4.5\\ngini = 0.491\\nsamples = 23\\nvalue = [13, 10]'),\n",
              " Text(137.268, 99.66, 'X[1] <= 109.5\\ngini = 0.32\\nsamples = 10\\nvalue = [8, 2]'),\n",
              " Text(130.572, 81.53999999999999, 'X[5] <= 25.15\\ngini = 0.444\\nsamples = 3\\nvalue = [1, 2]'),\n",
              " Text(123.876, 63.41999999999999, 'gini = 0.0\\nsamples = 1\\nvalue = [1, 0]'),\n",
              " Text(137.268, 63.41999999999999, 'gini = 0.0\\nsamples = 2\\nvalue = [0, 2]'),\n",
              " Text(143.96400000000003, 81.53999999999999, 'gini = 0.0\\nsamples = 7\\nvalue = [7, 0]'),\n",
              " Text(170.74800000000002, 99.66, 'X[7] <= 45.0\\ngini = 0.473\\nsamples = 13\\nvalue = [5, 8]'),\n",
              " Text(157.35600000000002, 81.53999999999999, 'X[1] <= 107.0\\ngini = 0.219\\nsamples = 8\\nvalue = [1, 7]'),\n",
              " Text(150.66000000000003, 63.41999999999999, 'X[0] <= 11.0\\ngini = 0.5\\nsamples = 2\\nvalue = [1, 1]'),\n",
              " Text(143.96400000000003, 45.29999999999998, 'gini = 0.0\\nsamples = 1\\nvalue = [1, 0]'),\n",
              " Text(157.35600000000002, 45.29999999999998, 'gini = 0.0\\nsamples = 1\\nvalue = [0, 1]'),\n",
              " Text(164.05200000000002, 63.41999999999999, 'gini = 0.0\\nsamples = 6\\nvalue = [0, 6]'),\n",
              " Text(184.14000000000001, 81.53999999999999, 'X[6] <= 0.233\\ngini = 0.32\\nsamples = 5\\nvalue = [4, 1]'),\n",
              " Text(177.44400000000002, 63.41999999999999, 'gini = 0.0\\nsamples = 1\\nvalue = [0, 1]'),\n",
              " Text(190.836, 63.41999999999999, 'gini = 0.0\\nsamples = 4\\nvalue = [4, 0]'),\n",
              " Text(217.62000000000003, 117.77999999999999, 'X[2] <= 73.0\\ngini = 0.332\\nsamples = 19\\nvalue = [4, 15]'),\n",
              " Text(204.228, 99.66, 'X[4] <= 47.0\\ngini = 0.5\\nsamples = 6\\nvalue = [3, 3]'),\n",
              " Text(197.532, 81.53999999999999, 'gini = 0.0\\nsamples = 3\\nvalue = [0, 3]'),\n",
              " Text(210.924, 81.53999999999999, 'gini = 0.0\\nsamples = 3\\nvalue = [3, 0]'),\n",
              " Text(231.01200000000003, 99.66, 'X[2] <= 99.0\\ngini = 0.142\\nsamples = 13\\nvalue = [1, 12]'),\n",
              " Text(224.31600000000003, 81.53999999999999, 'gini = 0.0\\nsamples = 12\\nvalue = [0, 12]'),\n",
              " Text(237.70800000000003, 81.53999999999999, 'gini = 0.0\\nsamples = 1\\nvalue = [1, 0]'),\n",
              " Text(314.71200000000005, 190.26, 'X[7] <= 61.0\\ngini = 0.45\\nsamples = 85\\nvalue = [29, 56]'),\n",
              " Text(308.016, 172.14, 'X[7] <= 40.0\\ngini = 0.413\\nsamples = 79\\nvalue = [23, 56]'),\n",
              " Text(294.624, 154.01999999999998, 'X[0] <= 9.0\\ngini = 0.474\\nsamples = 57\\nvalue = [22, 35]'),\n",
              " Text(287.92800000000005, 135.89999999999998, 'X[4] <= 367.5\\ngini = 0.449\\nsamples = 53\\nvalue = [18, 35]'),\n",
              " Text(271.18800000000005, 117.77999999999999, 'X[1] <= 151.5\\ngini = 0.4\\nsamples = 47\\nvalue = [13, 34]'),\n",
              " Text(264.492, 99.66, 'X[3] <= 8.5\\ngini = 0.491\\nsamples = 30\\nvalue = [13, 17]'),\n",
              " Text(251.10000000000002, 81.53999999999999, 'X[1] <= 146.5\\ngini = 0.26\\nsamples = 13\\nvalue = [2, 11]'),\n",
              " Text(244.40400000000002, 63.41999999999999, 'X[2] <= 78.0\\ngini = 0.153\\nsamples = 12\\nvalue = [1, 11]'),\n",
              " Text(237.70800000000003, 45.29999999999998, 'gini = 0.0\\nsamples = 9\\nvalue = [0, 9]'),\n",
              " Text(251.10000000000002, 45.29999999999998, 'X[7] <= 31.0\\ngini = 0.444\\nsamples = 3\\nvalue = [1, 2]'),\n",
              " Text(244.40400000000002, 27.17999999999998, 'gini = 0.0\\nsamples = 1\\nvalue = [1, 0]'),\n",
              " Text(257.79600000000005, 27.17999999999998, 'gini = 0.0\\nsamples = 2\\nvalue = [0, 2]'),\n",
              " Text(257.79600000000005, 63.41999999999999, 'gini = 0.0\\nsamples = 1\\nvalue = [1, 0]'),\n",
              " Text(277.884, 81.53999999999999, 'X[3] <= 31.5\\ngini = 0.457\\nsamples = 17\\nvalue = [11, 6]'),\n",
              " Text(271.18800000000005, 63.41999999999999, 'gini = 0.0\\nsamples = 8\\nvalue = [8, 0]'),\n",
              " Text(284.58000000000004, 63.41999999999999, 'X[1] <= 137.5\\ngini = 0.444\\nsamples = 9\\nvalue = [3, 6]'),\n",
              " Text(277.884, 45.29999999999998, 'gini = 0.0\\nsamples = 1\\nvalue = [1, 0]'),\n",
              " Text(291.276, 45.29999999999998, 'X[6] <= 0.333\\ngini = 0.375\\nsamples = 8\\nvalue = [2, 6]'),\n",
              " Text(284.58000000000004, 27.17999999999998, 'gini = 0.0\\nsamples = 1\\nvalue = [1, 0]'),\n",
              " Text(297.97200000000004, 27.17999999999998, 'X[3] <= 47.5\\ngini = 0.245\\nsamples = 7\\nvalue = [1, 6]'),\n",
              " Text(291.276, 9.059999999999974, 'gini = 0.0\\nsamples = 6\\nvalue = [0, 6]'),\n",
              " Text(304.668, 9.059999999999974, 'gini = 0.0\\nsamples = 1\\nvalue = [1, 0]'),\n",
              " Text(277.884, 99.66, 'gini = 0.0\\nsamples = 17\\nvalue = [0, 17]'),\n",
              " Text(304.668, 117.77999999999999, 'X[2] <= 61.0\\ngini = 0.278\\nsamples = 6\\nvalue = [5, 1]'),\n",
              " Text(297.97200000000004, 99.66, 'X[4] <= 457.5\\ngini = 0.5\\nsamples = 2\\nvalue = [1, 1]'),\n",
              " Text(291.276, 81.53999999999999, 'gini = 0.0\\nsamples = 1\\nvalue = [1, 0]'),\n",
              " Text(304.668, 81.53999999999999, 'gini = 0.0\\nsamples = 1\\nvalue = [0, 1]'),\n",
              " Text(311.36400000000003, 99.66, 'gini = 0.0\\nsamples = 4\\nvalue = [4, 0]'),\n",
              " Text(301.32000000000005, 135.89999999999998, 'gini = 0.0\\nsamples = 4\\nvalue = [4, 0]'),\n",
              " Text(321.408, 154.01999999999998, 'X[6] <= 1.238\\ngini = 0.087\\nsamples = 22\\nvalue = [1, 21]'),\n",
              " Text(314.71200000000005, 135.89999999999998, 'gini = 0.0\\nsamples = 21\\nvalue = [0, 21]'),\n",
              " Text(328.10400000000004, 135.89999999999998, 'gini = 0.0\\nsamples = 1\\nvalue = [1, 0]'),\n",
              " Text(321.408, 172.14, 'gini = 0.0\\nsamples = 6\\nvalue = [6, 0]')]"
            ]
          },
          "metadata": {
            "tags": []
          },
          "execution_count": 22
        },
        {
          "output_type": "display_data",
          "data": {
            "image/png": "[encoded data removed]",
            "text/plain": [
              "<Figure size 432x288 with 1 Axes>"
            ]
          },
          "metadata": {
            "tags": [],
            "needs_background": "light"
          }
        }
      ]
    },
    {
      "cell_type": "code",
      "metadata": {
        "id": "gtoVx3XwB3OA",
        "colab": {
          "base_uri": "https://localhost:8080/",
          "height": 34
        },
        "outputId": "e3a82e34-dcc0-4b40-9901-3dcd16c501f1"
      },
      "source": [
        "from sklearn.metrics import accuracy_score\n",
        "print(len(y_test))"
      ],
      "execution_count": null,
      "outputs": [
        {
          "output_type": "stream",
          "text": [
            "39\n"
          ],
          "name": "stdout"
        }
      ]
    },
    {
      "cell_type": "code",
      "metadata": {
        "id": "6vw5KjCYCnWm",
        "colab": {
          "base_uri": "https://localhost:8080/",
          "height": 51
        },
        "outputId": "7f319a99-5c3b-444c-ed55-17ed15ba6082"
      },
      "source": [
        "clf1_pred=clf.predict(X_test)\n",
        "print(accuracy_score(clf1_pred,y_test))\n",
        "print(accuracy_score(clf1_pred,y_test,normalize=False))"
      ],
      "execution_count": null,
      "outputs": [
        {
          "output_type": "stream",
          "text": [
            "0.6153846153846154\n",
            "24\n"
          ],
          "name": "stdout"
        }
      ]
    },
    {
      "cell_type": "code",
      "metadata": {
        "id": "6F5h7qMdDAK4",
        "colab": {
          "base_uri": "https://localhost:8080/",
          "height": 51
        },
        "outputId": "f8e09944-c4e3-438d-f262-0b1e59539cfe"
      },
      "source": [
        "clf2_pred=clf2.predict(X_test)\n",
        "print(accuracy_score(clf2_pred,y_test))\n",
        "print(accuracy_score(clf2_pred,y_test,normalize=False))"
      ],
      "execution_count": null,
      "outputs": [
        {
          "output_type": "stream",
          "text": [
            "0.5897435897435898\n",
            "23\n"
          ],
          "name": "stdout"
        }
      ]
    },
    {
      "cell_type": "code",
      "metadata": {
        "id": "xX690YjGDQZT",
        "colab": {
          "base_uri": "https://localhost:8080/",
          "height": 51
        },
        "outputId": "b8585117-a119-4e66-b3c7-1b6e2eba76e2"
      },
      "source": [
        "clf3_pred=clf3.predict(X_test)\n",
        "print(accuracy_score(clf3_pred,y_test))\n",
        "print(accuracy_score(clf3_pred,y_test,normalize=False))"
      ],
      "execution_count": null,
      "outputs": [
        {
          "output_type": "stream",
          "text": [
            "0.6666666666666666\n",
            "26\n"
          ],
          "name": "stdout"
        }
      ]
    },
    {
      "cell_type": "code",
      "metadata": {
        "id": "ZeSQdXB9DURu",
        "colab": {
          "base_uri": "https://localhost:8080/",
          "height": 1000
        },
        "outputId": "e4ba0b58-191e-4309-9eda-db316bca5df5"
      },
      "source": [
        "super_clf = tree.DecisionTreeClassifier()\n",
        "tree.plot_tree(super_clf.fit(X_train,y_train))"
      ],
      "execution_count": null,
      "outputs": [
        {
          "output_type": "execute_result",
          "data": {
            "text/plain": [
              "[Text(143.66368042883212, 209.6742857142857, 'X[1] <= 127.5\\ngini = 0.454\\nsamples = 729\\nvalue = [475, 254]'),\n",
              " Text(49.74460538321168, 194.14285714285714, 'X[7] <= 28.5\\ngini = 0.314\\nsamples = 461\\nvalue = [371, 90]'),\n",
              " Text(15.884671532846715, 178.61142857142858, 'X[5] <= 30.95\\ngini = 0.148\\nsamples = 260\\nvalue = [239, 21]'),\n",
              " Text(7.331386861313868, 163.07999999999998, 'X[0] <= 7.5\\ngini = 0.027\\nsamples = 145\\nvalue = [143, 2]'),\n",
              " Text(4.887591240875913, 147.54857142857142, 'X[6] <= 0.672\\ngini = 0.014\\nsamples = 144\\nvalue = [143, 1]'),\n",
              " Text(2.4437956204379563, 132.01714285714286, 'gini = 0.0\\nsamples = 126\\nvalue = [126, 0]'),\n",
              " Text(7.331386861313868, 132.01714285714286, 'X[6] <= 0.686\\ngini = 0.105\\nsamples = 18\\nvalue = [17, 1]'),\n",
              " Text(4.887591240875913, 116.48571428571428, 'gini = 0.0\\nsamples = 1\\nvalue = [0, 1]'),\n",
              " Text(9.775182481751825, 116.48571428571428, 'gini = 0.0\\nsamples = 17\\nvalue = [17, 0]'),\n",
              " Text(9.775182481751825, 147.54857142857142, 'gini = 0.0\\nsamples = 1\\nvalue = [0, 1]'),\n",
              " Text(24.437956204379564, 163.07999999999998, 'X[2] <= 37.0\\ngini = 0.276\\nsamples = 115\\nvalue = [96, 19]'),\n",
              " Text(21.994160583941607, 147.54857142857142, 'gini = 0.0\\nsamples = 2\\nvalue = [0, 2]'),\n",
              " Text(26.88175182481752, 147.54857142857142, 'X[6] <= 1.272\\ngini = 0.256\\nsamples = 113\\nvalue = [96, 17]'),\n",
              " Text(24.437956204379564, 132.01714285714286, 'X[6] <= 0.501\\ngini = 0.245\\nsamples = 112\\nvalue = [96, 16]'),\n",
              " Text(14.662773722627737, 116.48571428571428, 'X[2] <= 94.0\\ngini = 0.159\\nsamples = 69\\nvalue = [63, 6]'),\n",
              " Text(12.218978102189782, 100.9542857142857, 'X[5] <= 31.1\\ngini = 0.136\\nsamples = 68\\nvalue = [63, 5]'),\n",
              " Text(9.775182481751825, 85.42285714285714, 'gini = 0.0\\nsamples = 1\\nvalue = [0, 1]'),\n",
              " Text(14.662773722627737, 85.42285714285714, 'X[4] <= 36.5\\ngini = 0.112\\nsamples = 67\\nvalue = [63, 4]'),\n",
              " Text(12.218978102189782, 69.89142857142858, 'X[1] <= 111.5\\ngini = 0.298\\nsamples = 22\\nvalue = [18, 4]'),\n",
              " Text(7.331386861313868, 54.359999999999985, 'X[4] <= 34.0\\ngini = 0.117\\nsamples = 16\\nvalue = [15, 1]'),\n",
              " Text(4.887591240875913, 38.82857142857142, 'gini = 0.0\\nsamples = 15\\nvalue = [15, 0]'),\n",
              " Text(9.775182481751825, 38.82857142857142, 'gini = 0.0\\nsamples = 1\\nvalue = [0, 1]'),\n",
              " Text(17.106569343065694, 54.359999999999985, 'X[1] <= 116.0\\ngini = 0.5\\nsamples = 6\\nvalue = [3, 3]'),\n",
              " Text(14.662773722627737, 38.82857142857142, 'gini = 0.0\\nsamples = 2\\nvalue = [0, 2]'),\n",
              " Text(19.55036496350365, 38.82857142857142, 'X[2] <= 55.0\\ngini = 0.375\\nsamples = 4\\nvalue = [3, 1]'),\n",
              " Text(17.106569343065694, 23.29714285714286, 'gini = 0.0\\nsamples = 1\\nvalue = [0, 1]'),\n",
              " Text(21.994160583941607, 23.29714285714286, 'gini = 0.0\\nsamples = 3\\nvalue = [3, 0]'),\n",
              " Text(17.106569343065694, 69.89142857142858, 'gini = 0.0\\nsamples = 45\\nvalue = [45, 0]'),\n",
              " Text(17.106569343065694, 100.9542857142857, 'gini = 0.0\\nsamples = 1\\nvalue = [0, 1]'),\n",
              " Text(34.21313868613139, 116.48571428571428, 'X[6] <= 0.544\\ngini = 0.357\\nsamples = 43\\nvalue = [33, 10]'),\n",
              " Text(26.88175182481752, 100.9542857142857, 'X[4] <= 147.0\\ngini = 0.5\\nsamples = 10\\nvalue = [5, 5]'),\n",
              " Text(24.437956204379564, 85.42285714285714, 'X[2] <= 61.0\\ngini = 0.408\\nsamples = 7\\nvalue = [2, 5]'),\n",
              " Text(21.994160583941607, 69.89142857142858, 'gini = 0.0\\nsamples = 2\\nvalue = [2, 0]'),\n",
              " Text(26.88175182481752, 69.89142857142858, 'gini = 0.0\\nsamples = 5\\nvalue = [0, 5]'),\n",
              " Text(29.325547445255474, 85.42285714285714, 'gini = 0.0\\nsamples = 3\\nvalue = [3, 0]'),\n",
              " Text(41.544525547445254, 100.9542857142857, 'X[2] <= 67.0\\ngini = 0.257\\nsamples = 33\\nvalue = [28, 5]'),\n",
              " Text(34.21313868613139, 85.42285714285714, 'X[4] <= 70.0\\ngini = 0.426\\nsamples = 13\\nvalue = [9, 4]'),\n",
              " Text(31.76934306569343, 69.89142857142858, 'gini = 0.0\\nsamples = 6\\nvalue = [6, 0]'),\n",
              " Text(36.65693430656935, 69.89142857142858, 'X[1] <= 114.0\\ngini = 0.49\\nsamples = 7\\nvalue = [3, 4]'),\n",
              " Text(34.21313868613139, 54.359999999999985, 'X[6] <= 0.637\\ngini = 0.32\\nsamples = 5\\nvalue = [1, 4]'),\n",
              " Text(31.76934306569343, 38.82857142857142, 'gini = 0.0\\nsamples = 1\\nvalue = [1, 0]'),\n",
              " Text(36.65693430656935, 38.82857142857142, 'gini = 0.0\\nsamples = 4\\nvalue = [0, 4]'),\n",
              " Text(39.1007299270073, 54.359999999999985, 'gini = 0.0\\nsamples = 2\\nvalue = [2, 0]'),\n",
              " Text(48.87591240875913, 85.42285714285714, 'X[7] <= 21.5\\ngini = 0.095\\nsamples = 20\\nvalue = [19, 1]'),\n",
              " Text(46.43211678832117, 69.89142857142858, 'X[5] <= 42.8\\ngini = 0.444\\nsamples = 3\\nvalue = [2, 1]'),\n",
              " Text(43.988321167883214, 54.359999999999985, 'gini = 0.0\\nsamples = 2\\nvalue = [2, 0]'),\n",
              " Text(48.87591240875913, 54.359999999999985, 'gini = 0.0\\nsamples = 1\\nvalue = [0, 1]'),\n",
              " Text(51.31970802919708, 69.89142857142858, 'gini = 0.0\\nsamples = 17\\nvalue = [17, 0]'),\n",
              " Text(29.325547445255474, 132.01714285714286, 'gini = 0.0\\nsamples = 1\\nvalue = [0, 1]'),\n",
              " Text(83.60453923357665, 178.61142857142858, 'X[5] <= 26.35\\ngini = 0.451\\nsamples = 201\\nvalue = [132, 69]'),\n",
              " Text(64.76058394160584, 163.07999999999998, 'X[5] <= 9.65\\ngini = 0.095\\nsamples = 40\\nvalue = [38, 2]'),\n",
              " Text(62.316788321167884, 147.54857142857142, 'gini = 0.0\\nsamples = 2\\nvalue = [0, 2]'),\n",
              " Text(67.2043795620438, 147.54857142857142, 'gini = 0.0\\nsamples = 38\\nvalue = [38, 0]'),\n",
              " Text(102.44849452554745, 163.07999999999998, 'X[1] <= 99.5\\ngini = 0.486\\nsamples = 161\\nvalue = [94, 67]'),\n",
              " Text(72.0919708029197, 147.54857142857142, 'X[1] <= 28.5\\ngini = 0.315\\nsamples = 51\\nvalue = [41, 10]'),\n",
              " Text(69.64817518248175, 132.01714285714286, 'gini = 0.0\\nsamples = 2\\nvalue = [0, 2]'),\n",
              " Text(74.53576642335767, 132.01714285714286, 'X[4] <= 87.0\\ngini = 0.273\\nsamples = 49\\nvalue = [41, 8]'),\n",
              " Text(69.64817518248175, 116.48571428571428, 'X[6] <= 1.16\\ngini = 0.198\\nsamples = 45\\nvalue = [40, 5]'),\n",
              " Text(67.2043795620438, 100.9542857142857, 'X[7] <= 51.0\\ngini = 0.165\\nsamples = 44\\nvalue = [40, 4]'),\n",
              " Text(61.09489051094891, 85.42285714285714, 'X[0] <= 11.5\\ngini = 0.095\\nsamples = 40\\nvalue = [38, 2]'),\n",
              " Text(56.207299270072994, 69.89142857142858, 'X[6] <= 0.178\\ngini = 0.053\\nsamples = 37\\nvalue = [36, 1]'),\n",
              " Text(53.76350364963504, 54.359999999999985, 'X[5] <= 32.4\\ngini = 0.375\\nsamples = 4\\nvalue = [3, 1]'),\n",
              " Text(51.31970802919708, 38.82857142857142, 'gini = 0.0\\nsamples = 1\\nvalue = [0, 1]'),\n",
              " Text(56.207299270072994, 38.82857142857142, 'gini = 0.0\\nsamples = 3\\nvalue = [3, 0]'),\n",
              " Text(58.65109489051095, 54.359999999999985, 'gini = 0.0\\nsamples = 33\\nvalue = [33, 0]'),\n",
              " Text(65.98248175182482, 69.89142857142858, 'X[5] <= 31.25\\ngini = 0.444\\nsamples = 3\\nvalue = [2, 1]'),\n",
              " Text(63.53868613138686, 54.359999999999985, 'gini = 0.0\\nsamples = 1\\nvalue = [0, 1]'),\n",
              " Text(68.42627737226277, 54.359999999999985, 'gini = 0.0\\nsamples = 2\\nvalue = [2, 0]'),\n",
              " Text(73.3138686131387, 85.42285714285714, 'X[7] <= 56.5\\ngini = 0.5\\nsamples = 4\\nvalue = [2, 2]'),\n",
              " Text(70.87007299270073, 69.89142857142858, 'gini = 0.0\\nsamples = 2\\nvalue = [0, 2]'),\n",
              " Text(75.75766423357665, 69.89142857142858, 'gini = 0.0\\nsamples = 2\\nvalue = [2, 0]'),\n",
              " Text(72.0919708029197, 100.9542857142857, 'gini = 0.0\\nsamples = 1\\nvalue = [0, 1]'),\n",
              " Text(79.42335766423358, 116.48571428571428, 'X[7] <= 45.0\\ngini = 0.375\\nsamples = 4\\nvalue = [1, 3]'),\n",
              " Text(76.97956204379562, 100.9542857142857, 'gini = 0.0\\nsamples = 3\\nvalue = [0, 3]'),\n",
              " Text(81.86715328467153, 100.9542857142857, 'gini = 0.0\\nsamples = 1\\nvalue = [1, 0]'),\n",
              " Text(132.80501824817517, 147.54857142857142, 'X[6] <= 0.561\\ngini = 0.499\\nsamples = 110\\nvalue = [53, 57]'),\n",
              " Text(103.09762773722628, 132.01714285714286, 'X[6] <= 0.2\\ngini = 0.486\\nsamples = 79\\nvalue = [46, 33]'),\n",
              " Text(89.1985401459854, 116.48571428571428, 'X[7] <= 34.5\\ngini = 0.278\\nsamples = 18\\nvalue = [15, 3]'),\n",
              " Text(86.75474452554745, 100.9542857142857, 'gini = 0.0\\nsamples = 9\\nvalue = [9, 0]'),\n",
              " Text(91.64233576642336, 100.9542857142857, 'X[1] <= 112.5\\ngini = 0.444\\nsamples = 9\\nvalue = [6, 3]'),\n",
              " Text(86.75474452554745, 85.42285714285714, 'X[7] <= 36.5\\ngini = 0.278\\nsamples = 6\\nvalue = [5, 1]'),\n",
              " Text(84.3109489051095, 69.89142857142858, 'gini = 0.0\\nsamples = 1\\nvalue = [0, 1]'),\n",
              " Text(89.1985401459854, 69.89142857142858, 'gini = 0.0\\nsamples = 5\\nvalue = [5, 0]'),\n",
              " Text(96.52992700729928, 85.42285714285714, 'X[2] <= 91.0\\ngini = 0.444\\nsamples = 3\\nvalue = [1, 2]'),\n",
              " Text(94.08613138686131, 69.89142857142858, 'gini = 0.0\\nsamples = 2\\nvalue = [0, 2]'),\n",
              " Text(98.97372262773723, 69.89142857142858, 'gini = 0.0\\nsamples = 1\\nvalue = [1, 0]'),\n",
              " Text(116.99671532846716, 116.48571428571428, 'X[0] <= 1.5\\ngini = 0.5\\nsamples = 61\\nvalue = [31, 30]'),\n",
              " Text(108.74890510948906, 100.9542857142857, 'X[1] <= 113.0\\ngini = 0.298\\nsamples = 11\\nvalue = [2, 9]'),\n",
              " Text(106.3051094890511, 85.42285714285714, 'X[5] <= 36.15\\ngini = 0.444\\nsamples = 3\\nvalue = [2, 1]'),\n",
              " Text(103.86131386861314, 69.89142857142858, 'gini = 0.0\\nsamples = 2\\nvalue = [2, 0]'),\n",
              " Text(108.74890510948906, 69.89142857142858, 'gini = 0.0\\nsamples = 1\\nvalue = [0, 1]'),\n",
              " Text(111.19270072992701, 85.42285714285714, 'gini = 0.0\\nsamples = 8\\nvalue = [0, 8]'),\n",
              " Text(125.24452554744526, 100.9542857142857, 'X[2] <= 67.0\\ngini = 0.487\\nsamples = 50\\nvalue = [29, 21]'),\n",
              " Text(116.08029197080292, 85.42285714285714, 'X[6] <= 0.362\\ngini = 0.375\\nsamples = 12\\nvalue = [3, 9]'),\n",
              " Text(113.63649635036496, 69.89142857142858, 'gini = 0.0\\nsamples = 7\\nvalue = [0, 7]'),\n",
              " Text(118.52408759124089, 69.89142857142858, 'X[5] <= 30.05\\ngini = 0.48\\nsamples = 5\\nvalue = [3, 2]'),\n",
              " Text(116.08029197080292, 54.359999999999985, 'gini = 0.0\\nsamples = 2\\nvalue = [0, 2]'),\n",
              " Text(120.96788321167884, 54.359999999999985, 'gini = 0.0\\nsamples = 3\\nvalue = [3, 0]'),\n",
              " Text(134.4087591240876, 85.42285714285714, 'X[5] <= 34.45\\ngini = 0.432\\nsamples = 38\\nvalue = [26, 12]'),\n",
              " Text(128.2992700729927, 69.89142857142858, 'X[2] <= 83.0\\ngini = 0.496\\nsamples = 22\\nvalue = [12, 10]'),\n",
              " Text(125.85547445255474, 54.359999999999985, 'X[1] <= 120.5\\ngini = 0.494\\nsamples = 18\\nvalue = [8, 10]'),\n",
              " Text(120.96788321167884, 38.82857142857142, 'X[6] <= 0.252\\ngini = 0.346\\nsamples = 9\\nvalue = [2, 7]'),\n",
              " Text(118.52408759124089, 23.29714285714286, 'gini = 0.0\\nsamples = 2\\nvalue = [2, 0]'),\n",
              " Text(123.41167883211679, 23.29714285714286, 'gini = 0.0\\nsamples = 7\\nvalue = [0, 7]'),\n",
              " Text(130.74306569343065, 38.82857142857142, 'X[6] <= 0.371\\ngini = 0.444\\nsamples = 9\\nvalue = [6, 3]'),\n",
              " Text(128.2992700729927, 23.29714285714286, 'X[1] <= 123.0\\ngini = 0.375\\nsamples = 4\\nvalue = [1, 3]'),\n",
              " Text(125.85547445255474, 7.765714285714267, 'gini = 0.0\\nsamples = 1\\nvalue = [1, 0]'),\n",
              " Text(130.74306569343065, 7.765714285714267, 'gini = 0.0\\nsamples = 3\\nvalue = [0, 3]'),\n",
              " Text(133.1868613138686, 23.29714285714286, 'gini = 0.0\\nsamples = 5\\nvalue = [5, 0]'),\n",
              " Text(130.74306569343065, 54.359999999999985, 'gini = 0.0\\nsamples = 4\\nvalue = [4, 0]'),\n",
              " Text(140.5182481751825, 69.89142857142858, 'X[0] <= 11.5\\ngini = 0.219\\nsamples = 16\\nvalue = [14, 2]'),\n",
              " Text(138.07445255474454, 54.359999999999985, 'X[5] <= 43.1\\ngini = 0.124\\nsamples = 15\\nvalue = [14, 1]'),\n",
              " Text(135.6306569343066, 38.82857142857142, 'gini = 0.0\\nsamples = 14\\nvalue = [14, 0]'),\n",
              " Text(140.5182481751825, 38.82857142857142, 'gini = 0.0\\nsamples = 1\\nvalue = [0, 1]'),\n",
              " Text(142.96204379562045, 54.359999999999985, 'gini = 0.0\\nsamples = 1\\nvalue = [0, 1]'),\n",
              " Text(162.5124087591241, 132.01714285714286, 'X[3] <= 47.5\\ngini = 0.35\\nsamples = 31\\nvalue = [7, 24]'),\n",
              " Text(160.06861313868615, 116.48571428571428, 'X[7] <= 34.5\\ngini = 0.285\\nsamples = 29\\nvalue = [5, 24]'),\n",
              " Text(157.6248175182482, 100.9542857142857, 'X[7] <= 33.5\\ngini = 0.459\\nsamples = 14\\nvalue = [5, 9]'),\n",
              " Text(152.73722627737226, 85.42285714285714, 'X[2] <= 87.0\\ngini = 0.32\\nsamples = 10\\nvalue = [2, 8]'),\n",
              " Text(150.2934306569343, 69.89142857142858, 'X[0] <= 0.5\\ngini = 0.198\\nsamples = 9\\nvalue = [1, 8]'),\n",
              " Text(147.84963503649635, 54.359999999999985, 'gini = 0.0\\nsamples = 1\\nvalue = [1, 0]'),\n",
              " Text(152.73722627737226, 54.359999999999985, 'gini = 0.0\\nsamples = 8\\nvalue = [0, 8]'),\n",
              " Text(155.1810218978102, 69.89142857142858, 'gini = 0.0\\nsamples = 1\\nvalue = [1, 0]'),\n",
              " Text(162.5124087591241, 85.42285714285714, 'X[5] <= 28.5\\ngini = 0.375\\nsamples = 4\\nvalue = [3, 1]'),\n",
              " Text(160.06861313868615, 69.89142857142858, 'gini = 0.0\\nsamples = 1\\nvalue = [0, 1]'),\n",
              " Text(164.95620437956205, 69.89142857142858, 'gini = 0.0\\nsamples = 3\\nvalue = [3, 0]'),\n",
              " Text(162.5124087591241, 100.9542857142857, 'gini = 0.0\\nsamples = 15\\nvalue = [0, 15]'),\n",
              " Text(164.95620437956205, 116.48571428571428, 'gini = 0.0\\nsamples = 2\\nvalue = [2, 0]'),\n",
              " Text(237.58275547445257, 194.14285714285714, 'X[5] <= 29.95\\ngini = 0.475\\nsamples = 268\\nvalue = [104, 164]'),\n",
              " Text(188.17226277372262, 178.61142857142858, 'X[1] <= 145.5\\ngini = 0.428\\nsamples = 74\\nvalue = [51, 23]'),\n",
              " Text(182.06277372262775, 163.07999999999998, 'X[5] <= 28.15\\ngini = 0.255\\nsamples = 40\\nvalue = [34, 6]'),\n",
              " Text(177.17518248175182, 147.54857142857142, 'X[2] <= 73.0\\ngini = 0.17\\nsamples = 32\\nvalue = [29, 3]'),\n",
              " Text(174.73138686131387, 132.01714285714286, 'X[2] <= 71.0\\ngini = 0.337\\nsamples = 14\\nvalue = [11, 3]'),\n",
              " Text(172.2875912408759, 116.48571428571428, 'X[0] <= 2.5\\ngini = 0.26\\nsamples = 13\\nvalue = [11, 2]'),\n",
              " Text(169.84379562043796, 100.9542857142857, 'gini = 0.0\\nsamples = 7\\nvalue = [7, 0]'),\n",
              " Text(174.73138686131387, 100.9542857142857, 'X[0] <= 3.5\\ngini = 0.444\\nsamples = 6\\nvalue = [4, 2]'),\n",
              " Text(172.2875912408759, 85.42285714285714, 'X[5] <= 24.35\\ngini = 0.444\\nsamples = 3\\nvalue = [1, 2]'),\n",
              " Text(169.84379562043796, 69.89142857142858, 'gini = 0.0\\nsamples = 1\\nvalue = [1, 0]'),\n",
              " Text(174.73138686131387, 69.89142857142858, 'gini = 0.0\\nsamples = 2\\nvalue = [0, 2]'),\n",
              " Text(177.17518248175182, 85.42285714285714, 'gini = 0.0\\nsamples = 3\\nvalue = [3, 0]'),\n",
              " Text(177.17518248175182, 116.48571428571428, 'gini = 0.0\\nsamples = 1\\nvalue = [0, 1]'),\n",
              " Text(179.6189781021898, 132.01714285714286, 'gini = 0.0\\nsamples = 18\\nvalue = [18, 0]'),\n",
              " Text(186.95036496350366, 147.54857142857142, 'X[2] <= 67.0\\ngini = 0.469\\nsamples = 8\\nvalue = [5, 3]'),\n",
              " Text(184.5065693430657, 132.01714285714286, 'gini = 0.0\\nsamples = 5\\nvalue = [5, 0]'),\n",
              " Text(189.3941605839416, 132.01714285714286, 'gini = 0.0\\nsamples = 3\\nvalue = [0, 3]'),\n",
              " Text(194.28175182481752, 163.07999999999998, 'X[7] <= 25.5\\ngini = 0.5\\nsamples = 34\\nvalue = [17, 17]'),\n",
              " Text(191.83795620437957, 147.54857142857142, 'gini = 0.0\\nsamples = 4\\nvalue = [4, 0]'),\n",
              " Text(196.72554744525547, 147.54857142857142, 'X[7] <= 61.0\\ngini = 0.491\\nsamples = 30\\nvalue = [13, 17]'),\n",
              " Text(194.28175182481752, 132.01714285714286, 'X[5] <= 27.1\\ngini = 0.453\\nsamples = 26\\nvalue = [9, 17]'),\n",
              " Text(188.17226277372262, 116.48571428571428, 'X[1] <= 151.0\\ngini = 0.153\\nsamples = 12\\nvalue = [1, 11]'),\n",
              " Text(185.72846715328467, 100.9542857142857, 'gini = 0.0\\nsamples = 1\\nvalue = [1, 0]'),\n",
              " Text(190.6160583941606, 100.9542857142857, 'gini = 0.0\\nsamples = 11\\nvalue = [0, 11]'),\n",
              " Text(200.39124087591242, 116.48571428571428, 'X[0] <= 3.5\\ngini = 0.49\\nsamples = 14\\nvalue = [8, 6]'),\n",
              " Text(195.5036496350365, 100.9542857142857, 'X[6] <= 0.457\\ngini = 0.32\\nsamples = 5\\nvalue = [1, 4]'),\n",
              " Text(193.05985401459856, 85.42285714285714, 'gini = 0.0\\nsamples = 4\\nvalue = [0, 4]'),\n",
              " Text(197.94744525547446, 85.42285714285714, 'gini = 0.0\\nsamples = 1\\nvalue = [1, 0]'),\n",
              " Text(205.27883211678832, 100.9542857142857, 'X[6] <= 0.18\\ngini = 0.346\\nsamples = 9\\nvalue = [7, 2]'),\n",
              " Text(202.83503649635037, 85.42285714285714, 'gini = 0.0\\nsamples = 1\\nvalue = [0, 1]'),\n",
              " Text(207.72262773722628, 85.42285714285714, 'X[4] <= 134.0\\ngini = 0.219\\nsamples = 8\\nvalue = [7, 1]'),\n",
              " Text(205.27883211678832, 69.89142857142858, 'gini = 0.0\\nsamples = 6\\nvalue = [6, 0]'),\n",
              " Text(210.16642335766423, 69.89142857142858, 'X[5] <= 29.5\\ngini = 0.5\\nsamples = 2\\nvalue = [1, 1]'),\n",
              " Text(207.72262773722628, 54.359999999999985, 'gini = 0.0\\nsamples = 1\\nvalue = [1, 0]'),\n",
              " Text(212.6102189781022, 54.359999999999985, 'gini = 0.0\\nsamples = 1\\nvalue = [0, 1]'),\n",
              " Text(199.16934306569343, 132.01714285714286, 'gini = 0.0\\nsamples = 4\\nvalue = [4, 0]'),\n",
              " Text(286.9932481751825, 178.61142857142858, 'X[1] <= 157.5\\ngini = 0.397\\nsamples = 194\\nvalue = [53, 141]'),\n",
              " Text(252.01642335766425, 163.07999999999998, 'X[7] <= 30.5\\ngini = 0.475\\nsamples = 108\\nvalue = [42, 66]'),\n",
              " Text(237.65912408759124, 147.54857142857142, 'X[2] <= 61.0\\ngini = 0.492\\nsamples = 48\\nvalue = [27, 21]'),\n",
              " Text(235.21532846715328, 132.01714285714286, 'gini = 0.0\\nsamples = 9\\nvalue = [0, 9]'),\n",
              " Text(240.1029197080292, 132.01714285714286, 'X[4] <= 260.0\\ngini = 0.426\\nsamples = 39\\nvalue = [27, 12]'),\n",
              " Text(237.65912408759124, 116.48571428571428, 'X[2] <= 85.5\\ngini = 0.48\\nsamples = 30\\nvalue = [18, 12]'),\n",
              " Text(230.93868613138687, 100.9542857142857, 'X[2] <= 73.0\\ngini = 0.435\\nsamples = 25\\nvalue = [17, 8]'),\n",
              " Text(224.82919708029198, 85.42285714285714, 'X[6] <= 0.318\\ngini = 0.497\\nsamples = 13\\nvalue = [6, 7]'),\n",
              " Text(219.94160583941607, 69.89142857142858, 'X[3] <= 39.0\\ngini = 0.32\\nsamples = 5\\nvalue = [4, 1]'),\n",
              " Text(217.49781021897812, 54.359999999999985, 'gini = 0.0\\nsamples = 4\\nvalue = [4, 0]'),\n",
              " Text(222.38540145985402, 54.359999999999985, 'gini = 0.0\\nsamples = 1\\nvalue = [0, 1]'),\n",
              " Text(229.71678832116788, 69.89142857142858, 'X[2] <= 66.0\\ngini = 0.375\\nsamples = 8\\nvalue = [2, 6]'),\n",
              " Text(227.27299270072993, 54.359999999999985, 'gini = 0.0\\nsamples = 2\\nvalue = [2, 0]'),\n",
              " Text(232.16058394160584, 54.359999999999985, 'gini = 0.0\\nsamples = 6\\nvalue = [0, 6]'),\n",
              " Text(237.04817518248177, 85.42285714285714, 'X[0] <= 4.5\\ngini = 0.153\\nsamples = 12\\nvalue = [11, 1]'),\n",
              " Text(234.6043795620438, 69.89142857142858, 'gini = 0.0\\nsamples = 10\\nvalue = [10, 0]'),\n",
              " Text(239.49197080291972, 69.89142857142858, 'X[7] <= 26.0\\ngini = 0.5\\nsamples = 2\\nvalue = [1, 1]'),\n",
              " Text(237.04817518248177, 54.359999999999985, 'gini = 0.0\\nsamples = 1\\nvalue = [0, 1]'),\n",
              " Text(241.93576642335768, 54.359999999999985, 'gini = 0.0\\nsamples = 1\\nvalue = [1, 0]'),\n",
              " Text(244.37956204379563, 100.9542857142857, 'X[5] <= 41.35\\ngini = 0.32\\nsamples = 5\\nvalue = [1, 4]'),\n",
              " Text(241.93576642335768, 85.42285714285714, 'gini = 0.0\\nsamples = 1\\nvalue = [1, 0]'),\n",
              " Text(246.82335766423358, 85.42285714285714, 'gini = 0.0\\nsamples = 4\\nvalue = [0, 4]'),\n",
              " Text(242.54671532846717, 116.48571428571428, 'gini = 0.0\\nsamples = 9\\nvalue = [9, 0]'),\n",
              " Text(266.3737226277372, 147.54857142857142, 'X[6] <= 0.429\\ngini = 0.375\\nsamples = 60\\nvalue = [15, 45]'),\n",
              " Text(256.5985401459854, 132.01714285714286, 'X[5] <= 32.45\\ngini = 0.48\\nsamples = 25\\nvalue = [10, 15]'),\n",
              " Text(251.7109489051095, 116.48571428571428, 'X[6] <= 0.146\\ngini = 0.32\\nsamples = 5\\nvalue = [4, 1]'),\n",
              " Text(249.26715328467154, 100.9542857142857, 'gini = 0.0\\nsamples = 1\\nvalue = [0, 1]'),\n",
              " Text(254.15474452554744, 100.9542857142857, 'gini = 0.0\\nsamples = 4\\nvalue = [4, 0]'),\n",
              " Text(261.4861313868613, 116.48571428571428, 'X[1] <= 130.5\\ngini = 0.42\\nsamples = 20\\nvalue = [6, 14]'),\n",
              " Text(259.0423357664234, 100.9542857142857, 'gini = 0.0\\nsamples = 2\\nvalue = [2, 0]'),\n",
              " Text(263.9299270072993, 100.9542857142857, 'X[6] <= 0.411\\ngini = 0.346\\nsamples = 18\\nvalue = [4, 14]'),\n",
              " Text(261.4861313868613, 85.42285714285714, 'X[1] <= 138.5\\ngini = 0.291\\nsamples = 17\\nvalue = [3, 14]'),\n",
              " Text(259.0423357664234, 69.89142857142858, 'gini = 0.0\\nsamples = 7\\nvalue = [0, 7]'),\n",
              " Text(263.9299270072993, 69.89142857142858, 'X[1] <= 144.5\\ngini = 0.42\\nsamples = 10\\nvalue = [3, 7]'),\n",
              " Text(261.4861313868613, 54.359999999999985, 'X[7] <= 40.5\\ngini = 0.5\\nsamples = 6\\nvalue = [3, 3]'),\n",
              " Text(259.0423357664234, 38.82857142857142, 'gini = 0.0\\nsamples = 1\\nvalue = [1, 0]'),\n",
              " Text(263.9299270072993, 38.82857142857142, 'X[5] <= 37.0\\ngini = 0.48\\nsamples = 5\\nvalue = [2, 3]'),\n",
              " Text(261.4861313868613, 23.29714285714286, 'gini = 0.0\\nsamples = 2\\nvalue = [0, 2]'),\n",
              " Text(266.3737226277372, 23.29714285714286, 'X[6] <= 0.29\\ngini = 0.444\\nsamples = 3\\nvalue = [2, 1]'),\n",
              " Text(263.9299270072993, 7.765714285714267, 'gini = 0.0\\nsamples = 2\\nvalue = [2, 0]'),\n",
              " Text(268.8175182481752, 7.765714285714267, 'gini = 0.0\\nsamples = 1\\nvalue = [0, 1]'),\n",
              " Text(266.3737226277372, 54.359999999999985, 'gini = 0.0\\nsamples = 4\\nvalue = [0, 4]'),\n",
              " Text(266.3737226277372, 85.42285714285714, 'gini = 0.0\\nsamples = 1\\nvalue = [1, 0]'),\n",
              " Text(276.1489051094891, 132.01714285714286, 'X[4] <= 333.5\\ngini = 0.245\\nsamples = 35\\nvalue = [5, 30]'),\n",
              " Text(271.2613138686132, 116.48571428571428, 'X[5] <= 40.05\\ngini = 0.17\\nsamples = 32\\nvalue = [3, 29]'),\n",
              " Text(268.8175182481752, 100.9542857142857, 'gini = 0.0\\nsamples = 22\\nvalue = [0, 22]'),\n",
              " Text(273.7051094890511, 100.9542857142857, 'X[5] <= 40.9\\ngini = 0.42\\nsamples = 10\\nvalue = [3, 7]'),\n",
              " Text(271.2613138686132, 85.42285714285714, 'gini = 0.0\\nsamples = 3\\nvalue = [3, 0]'),\n",
              " Text(276.1489051094891, 85.42285714285714, 'gini = 0.0\\nsamples = 7\\nvalue = [0, 7]'),\n",
              " Text(281.036496350365, 116.48571428571428, 'X[7] <= 44.0\\ngini = 0.444\\nsamples = 3\\nvalue = [2, 1]'),\n",
              " Text(278.592700729927, 100.9542857142857, 'gini = 0.0\\nsamples = 2\\nvalue = [2, 0]'),\n",
              " Text(283.4802919708029, 100.9542857142857, 'gini = 0.0\\nsamples = 1\\nvalue = [0, 1]'),\n",
              " Text(321.97007299270075, 163.07999999999998, 'X[4] <= 629.5\\ngini = 0.223\\nsamples = 86\\nvalue = [11, 75]'),\n",
              " Text(314.0277372262774, 147.54857142857142, 'X[5] <= 46.1\\ngini = 0.193\\nsamples = 83\\nvalue = [9, 74]'),\n",
              " Text(305.4744525547445, 132.01714285714286, 'X[3] <= 26.5\\ngini = 0.163\\nsamples = 78\\nvalue = [7, 71]'),\n",
              " Text(295.6992700729927, 116.48571428571428, 'X[2] <= 69.0\\ngini = 0.278\\nsamples = 36\\nvalue = [6, 30]'),\n",
              " Text(288.3678832116788, 100.9542857142857, 'X[4] <= 35.0\\ngini = 0.5\\nsamples = 8\\nvalue = [4, 4]'),\n",
              " Text(285.9240875912409, 85.42285714285714, 'gini = 0.0\\nsamples = 3\\nvalue = [0, 3]'),\n",
              " Text(290.8116788321168, 85.42285714285714, 'X[2] <= 61.0\\ngini = 0.32\\nsamples = 5\\nvalue = [4, 1]'),\n",
              " Text(288.3678832116788, 69.89142857142858, 'gini = 0.0\\nsamples = 1\\nvalue = [0, 1]'),\n",
              " Text(293.2554744525548, 69.89142857142858, 'gini = 0.0\\nsamples = 4\\nvalue = [4, 0]'),\n",
              " Text(303.0306569343066, 100.9542857142857, 'X[6] <= 1.341\\ngini = 0.133\\nsamples = 28\\nvalue = [2, 26]'),\n",
              " Text(300.5868613138686, 85.42285714285714, 'X[0] <= 9.5\\ngini = 0.071\\nsamples = 27\\nvalue = [1, 26]'),\n",
              " Text(298.1430656934307, 69.89142857142858, 'gini = 0.0\\nsamples = 24\\nvalue = [0, 24]'),\n",
              " Text(303.0306569343066, 69.89142857142858, 'X[5] <= 36.55\\ngini = 0.444\\nsamples = 3\\nvalue = [1, 2]'),\n",
              " Text(300.5868613138686, 54.359999999999985, 'gini = 0.0\\nsamples = 1\\nvalue = [1, 0]'),\n",
              " Text(305.4744525547445, 54.359999999999985, 'gini = 0.0\\nsamples = 2\\nvalue = [0, 2]'),\n",
              " Text(305.4744525547445, 85.42285714285714, 'gini = 0.0\\nsamples = 1\\nvalue = [1, 0]'),\n",
              " Text(315.2496350364964, 116.48571428571428, 'X[1] <= 165.5\\ngini = 0.046\\nsamples = 42\\nvalue = [1, 41]'),\n",
              " Text(312.8058394160584, 100.9542857142857, 'X[0] <= 2.0\\ngini = 0.245\\nsamples = 7\\nvalue = [1, 6]'),\n",
              " Text(310.3620437956204, 85.42285714285714, 'gini = 0.0\\nsamples = 1\\nvalue = [1, 0]'),\n",
              " Text(315.2496350364964, 85.42285714285714, 'gini = 0.0\\nsamples = 6\\nvalue = [0, 6]'),\n",
              " Text(317.6934306569343, 100.9542857142857, 'gini = 0.0\\nsamples = 35\\nvalue = [0, 35]'),\n",
              " Text(322.5810218978102, 132.01714285714286, 'X[4] <= 134.5\\ngini = 0.48\\nsamples = 5\\nvalue = [2, 3]'),\n",
              " Text(320.1372262773723, 116.48571428571428, 'gini = 0.0\\nsamples = 3\\nvalue = [0, 3]'),\n",
              " Text(325.0248175182482, 116.48571428571428, 'gini = 0.0\\nsamples = 2\\nvalue = [2, 0]'),\n",
              " Text(329.9124087591241, 147.54857142857142, 'X[5] <= 33.4\\ngini = 0.444\\nsamples = 3\\nvalue = [2, 1]'),\n",
              " Text(327.4686131386861, 132.01714285714286, 'gini = 0.0\\nsamples = 1\\nvalue = [0, 1]'),\n",
              " Text(332.35620437956203, 132.01714285714286, 'gini = 0.0\\nsamples = 2\\nvalue = [2, 0]')]"
            ]
          },
          "metadata": {
            "tags": []
          },
          "execution_count": 27
        },
        {
          "output_type": "display_data",
          "data": {
            "image/png": "[encoded data removed]",
            "text/plain": [
              "<Figure size 432x288 with 1 Axes>"
            ]
          },
          "metadata": {
            "tags": [],
            "needs_background": "light"
          }
        }
      ]
    },
    {
      "cell_type": "code",
      "metadata": {
        "id": "HqPe-gk5ED8e",
        "colab": {
          "base_uri": "https://localhost:8080/",
          "height": 51
        },
        "outputId": "2612dabf-9c66-4467-af15-72ec1f3ee295"
      },
      "source": [
        "superclf_pred=super_clf.predict(X_test)\n",
        "print(accuracy_score(superclf_pred,y_test))\n",
        "print(accuracy_score(superclf_pred,y_test,normalize=False))"
      ],
      "execution_count": null,
      "outputs": [
        {
          "output_type": "stream",
          "text": [
            "0.6923076923076923\n",
            "27\n"
          ],
          "name": "stdout"
        }
      ]
    },
    {
      "cell_type": "code",
      "metadata": {
        "id": "jC6ff_1UEWbo"
      },
      "source": [
        ""
      ],
      "execution_count": null,
      "outputs": []
    }
  ]
}